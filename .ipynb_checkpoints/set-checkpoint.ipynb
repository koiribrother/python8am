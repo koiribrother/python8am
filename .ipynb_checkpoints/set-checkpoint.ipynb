{
 "cells": [
  {
   "cell_type": "code",
   "execution_count": null,
   "id": "29d38b3c",
   "metadata": {},
   "outputs": [],
   "source": [
    "# set\n",
    "# -No indexing\n",
    "# -Unordred\n",
    "# -Multiple but no duplicate data\n",
    "# -Mutable data\n"
   ]
  },
  {
   "cell_type": "code",
   "execution_count": 2,
   "id": "02679d19",
   "metadata": {},
   "outputs": [
    {
     "name": "stdout",
     "output_type": "stream",
     "text": [
      "<class 'set'>\n"
     ]
    }
   ],
   "source": [
    "s ={1,2,3}\n",
    "s =set()\n",
    "print(type(s))"
   ]
  },
  {
   "cell_type": "code",
   "execution_count": 6,
   "id": "9837bab2",
   "metadata": {},
   "outputs": [
    {
     "name": "stdout",
     "output_type": "stream",
     "text": [
      "{65, 34, 23, 11, 45}\n"
     ]
    },
    {
     "data": {
      "text/plain": [
       "{11, 23, 34, 45, 65}"
      ]
     },
     "execution_count": 6,
     "metadata": {},
     "output_type": "execute_result"
    }
   ],
   "source": [
    "s ={23,34,45,11,23,65}\n",
    "print(s)\n",
    "s"
   ]
  },
  {
   "cell_type": "code",
   "execution_count": 7,
   "id": "7c52799d",
   "metadata": {},
   "outputs": [
    {
     "name": "stdout",
     "output_type": "stream",
     "text": [
      "{65, 34, 23, 11, 45}\n"
     ]
    }
   ],
   "source": [
    "s ={23,34,45,11,23,65}# No indexing\n",
    "print(s)"
   ]
  },
  {
   "cell_type": "code",
   "execution_count": 8,
   "id": "3c20ac1a",
   "metadata": {},
   "outputs": [
    {
     "name": "stdout",
     "output_type": "stream",
     "text": [
      "{65, 34, 23, 11, 45}\n"
     ]
    }
   ],
   "source": [
    "s ={23,34,45,11,23,65,11,23,45}\n",
    "print(s)"
   ]
  },
  {
   "cell_type": "code",
   "execution_count": 9,
   "id": "eb2cfc96",
   "metadata": {},
   "outputs": [
    {
     "data": {
      "text/plain": [
       "[65, 34, 23, 11, 45]"
      ]
     },
     "execution_count": 9,
     "metadata": {},
     "output_type": "execute_result"
    }
   ],
   "source": [
    "s ={23,34,45,11,23,65,11,23,45}\n",
    "list(s)\n"
   ]
  },
  {
   "cell_type": "code",
   "execution_count": 11,
   "id": "648eae97",
   "metadata": {},
   "outputs": [
    {
     "data": {
      "text/plain": [
       "[65, 34, 11, 45, 23]"
      ]
     },
     "execution_count": 11,
     "metadata": {},
     "output_type": "execute_result"
    }
   ],
   "source": [
    "s =[23,34,45,11,23,65,11,23,45]\n",
    "list(set(s))"
   ]
  },
  {
   "cell_type": "code",
   "execution_count": 13,
   "id": "e6f1e5f3",
   "metadata": {},
   "outputs": [
    {
     "name": "stdout",
     "output_type": "stream",
     "text": [
      "{'Dog', 'Apple', 'Cat'}\n"
     ]
    }
   ],
   "source": [
    "s= set()\n",
    "s.add('Apple')\n",
    "s.add('Dog')\n",
    "s.add('Cat')\n",
    "print(s)"
   ]
  },
  {
   "cell_type": "code",
   "execution_count": 15,
   "id": "319be8d2",
   "metadata": {},
   "outputs": [
    {
     "name": "stdout",
     "output_type": "stream",
     "text": [
      "Enter n = 5\n",
      "Enter x = 1\n",
      "Enter x = 2\n",
      "Enter x = 3\n",
      "Enter x = 4\n",
      "Enter x = 5\n"
     ]
    },
    {
     "data": {
      "text/plain": [
       "{'1', '2', '3', '4', '5'}"
      ]
     },
     "execution_count": 15,
     "metadata": {},
     "output_type": "execute_result"
    }
   ],
   "source": [
    "s = set()\n",
    "n = int(input(\"Enter n = \"))\n",
    "for i in range(n):\n",
    "    x = input(\"Enter x = \")\n",
    "    s.add(x)\n",
    "\n",
    "s"
   ]
  },
  {
   "cell_type": "code",
   "execution_count": 16,
   "id": "2741d104",
   "metadata": {},
   "outputs": [
    {
     "data": {
      "text/plain": [
       "{'1', '2', '3', '4'}"
      ]
     },
     "execution_count": 16,
     "metadata": {},
     "output_type": "execute_result"
    }
   ],
   "source": [
    "s ={'1', '2', '3', '4', '5'}\n",
    "s.remove('5')\n",
    "s"
   ]
  },
  {
   "cell_type": "code",
   "execution_count": 17,
   "id": "57c04070",
   "metadata": {},
   "outputs": [
    {
     "data": {
      "text/plain": [
       "{'Ram', 'Sita'}"
      ]
     },
     "execution_count": 17,
     "metadata": {},
     "output_type": "execute_result"
    }
   ],
   "source": [
    "apple ={\"Ram\",\"Hari\",\"Sita\",\"gita\",\"manoj\"}\n",
    "ms ={\"Ram\",\"Bishal\",\"Sita\",\"Naresh\",\"Shyam\"}\n",
    "\n",
    "apple.intersection(ms)"
   ]
  },
  {
   "cell_type": "code",
   "execution_count": 18,
   "id": "7d27fac2",
   "metadata": {},
   "outputs": [
    {
     "data": {
      "text/plain": [
       "{'Bishal', 'Hari', 'Naresh', 'Ram', 'Shyam', 'Sita', 'gita', 'manoj'}"
      ]
     },
     "execution_count": 18,
     "metadata": {},
     "output_type": "execute_result"
    }
   ],
   "source": [
    "apple.union(ms)"
   ]
  },
  {
   "cell_type": "code",
   "execution_count": 20,
   "id": "59aa6101",
   "metadata": {},
   "outputs": [
    {
     "data": {
      "text/plain": [
       "{'Bishal', 'Hari', 'Naresh', 'Ram', 'Shyam', 'Sita', 'gita', 'manoj'}"
      ]
     },
     "execution_count": 20,
     "metadata": {},
     "output_type": "execute_result"
    }
   ],
   "source": [
    "apple.update(ms)\n",
    "apple"
   ]
  },
  {
   "cell_type": "code",
   "execution_count": 21,
   "id": "73054385",
   "metadata": {},
   "outputs": [
    {
     "data": {
      "text/plain": [
       "{'Hari', 'gita', 'manoj'}"
      ]
     },
     "execution_count": 21,
     "metadata": {},
     "output_type": "execute_result"
    }
   ],
   "source": [
    "apple ={\"Ram\",\"Hari\",\"Sita\",\"gita\",\"manoj\"}\n",
    "ms ={\"Ram\",\"Bishal\",\"Sita\",\"Naresh\",\"Shyam\"}\n",
    "apple.difference(ms) #apple-ms\n"
   ]
  },
  {
   "cell_type": "code",
   "execution_count": 22,
   "id": "ec59aa1c",
   "metadata": {},
   "outputs": [
    {
     "data": {
      "text/plain": [
       "{'Bishal', 'Naresh', 'Shyam'}"
      ]
     },
     "execution_count": 22,
     "metadata": {},
     "output_type": "execute_result"
    }
   ],
   "source": [
    "ms-apple"
   ]
  },
  {
   "cell_type": "code",
   "execution_count": 23,
   "id": "a14279c3",
   "metadata": {},
   "outputs": [
    {
     "data": {
      "text/plain": [
       "{'Rama', 'Ravi'}"
      ]
     },
     "execution_count": 23,
     "metadata": {},
     "output_type": "execute_result"
    }
   ],
   "source": [
    "U ={'Bishal', 'Hari', 'Naresh', 'Ram', 'Shyam', 'Sita', 'gita', 'manoj','Rama','Ravi'}\n",
    "apple = {'Hari', 'gita', 'manoj','Ram'}\n",
    "ms = {'Bishal', 'Naresh', 'Shyam','Sita'}\n",
    "un = apple.union(ms)\n",
    "U-un"
   ]
  },
  {
   "cell_type": "code",
   "execution_count": 24,
   "id": "6323cad0",
   "metadata": {},
   "outputs": [
    {
     "data": {
      "text/plain": [
       "{'N', 'R', 'S', 'm'}"
      ]
     },
     "execution_count": 24,
     "metadata": {},
     "output_type": "execute_result"
    }
   ],
   "source": [
    "U ={'B', 'H', 'N', 'R', 'S', 'g', 'm','R'}\n",
    "apple = {'H', 'g', 'c','d'}\n",
    "ms = {'B', 'J', 'K','L'}\n",
    "un = apple.union(ms)\n",
    "U-un"
   ]
  },
  {
   "cell_type": "code",
   "execution_count": 26,
   "id": "875876d3",
   "metadata": {},
   "outputs": [
    {
     "data": {
      "text/plain": [
       "{'21', '67'}"
      ]
     },
     "execution_count": 26,
     "metadata": {},
     "output_type": "execute_result"
    }
   ],
   "source": [
    "job ={'21','23','25','63','67'}\n",
    "u = {'21','34','45','67','70'}\n",
    "job.intersection(u)"
   ]
  },
  {
   "cell_type": "code",
   "execution_count": 27,
   "id": "c2cd19c3",
   "metadata": {},
   "outputs": [
    {
     "data": {
      "text/plain": [
       "2"
      ]
     },
     "execution_count": 27,
     "metadata": {},
     "output_type": "execute_result"
    }
   ],
   "source": [
    "job ={'21','23','25','63','67'}\n",
    "u = {'21','34','45','67','70'}\n",
    "len(job.intersection(u))"
   ]
  },
  {
   "cell_type": "code",
   "execution_count": 28,
   "id": "0e7ee341",
   "metadata": {},
   "outputs": [
    {
     "data": {
      "text/plain": [
       "{('21', '23'), ('25', '63', '67')}"
      ]
     },
     "execution_count": 28,
     "metadata": {},
     "output_type": "execute_result"
    }
   ],
   "source": [
    "job ={('21','23'),('25','63','67')}\n",
    "job"
   ]
  },
  {
   "cell_type": "code",
   "execution_count": null,
   "id": "bbc2c4e8",
   "metadata": {},
   "outputs": [],
   "source": [
    "# set inside set\n"
   ]
  },
  {
   "cell_type": "code",
   "execution_count": null,
   "id": "70d00031",
   "metadata": {},
   "outputs": [],
   "source": []
  }
 ],
 "metadata": {
  "kernelspec": {
   "display_name": "Python 3 (ipykernel)",
   "language": "python",
   "name": "python3"
  },
  "language_info": {
   "codemirror_mode": {
    "name": "ipython",
    "version": 3
   },
   "file_extension": ".py",
   "mimetype": "text/x-python",
   "name": "python",
   "nbconvert_exporter": "python",
   "pygments_lexer": "ipython3",
   "version": "3.9.12"
  }
 },
 "nbformat": 4,
 "nbformat_minor": 5
}
