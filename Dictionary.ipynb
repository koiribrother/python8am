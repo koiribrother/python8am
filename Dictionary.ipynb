{
 "cells": [
  {
   "cell_type": "code",
   "execution_count": null,
   "id": "b75b0c1f",
   "metadata": {},
   "outputs": [],
   "source": [
    "# dictionary\n",
    "# -indexed\n",
    "# -Duplicate value\n",
    "# -Ordered\n",
    "# -mutable"
   ]
  },
  {
   "cell_type": "code",
   "execution_count": 1,
   "id": "04e61359",
   "metadata": {},
   "outputs": [
    {
     "ename": "SyntaxError",
     "evalue": "invalid syntax (667391236.py, line 2)",
     "output_type": "error",
     "traceback": [
      "\u001b[1;36m  Input \u001b[1;32mIn [1]\u001b[1;36m\u001b[0m\n\u001b[1;33m    d {}\u001b[0m\n\u001b[1;37m      ^\u001b[0m\n\u001b[1;31mSyntaxError\u001b[0m\u001b[1;31m:\u001b[0m invalid syntax\n"
     ]
    }
   ],
   "source": [
    "d =dict()\n",
    "d = {}"
   ]
  },
  {
   "cell_type": "code",
   "execution_count": 2,
   "id": "0ecf4f89",
   "metadata": {},
   "outputs": [
    {
     "data": {
      "text/plain": [
       "{'a': 'apple', 'd': 'ball'}"
      ]
     },
     "execution_count": 2,
     "metadata": {},
     "output_type": "execute_result"
    }
   ],
   "source": [
    "d = {\"a\":\"apple\",\"b\":\"ball\"}\n",
    "d"
   ]
  },
  {
   "cell_type": "code",
   "execution_count": 6,
   "id": "5a86666a",
   "metadata": {},
   "outputs": [
    {
     "data": {
      "text/plain": [
       "'apple'"
      ]
     },
     "execution_count": 6,
     "metadata": {},
     "output_type": "execute_result"
    }
   ],
   "source": [
    "d['a']\n"
   ]
  },
  {
   "cell_type": "code",
   "execution_count": 7,
   "id": "1f7c5a19",
   "metadata": {},
   "outputs": [
    {
     "data": {
      "text/plain": [
       "{'a': 'apple', 'b': 'ball', 'A': 'Apple'}"
      ]
     },
     "execution_count": 7,
     "metadata": {},
     "output_type": "execute_result"
    }
   ],
   "source": [
    "d = {\"a\":\"apple\",\"b\":\"ball\",\"A\":\"Apple\"}\n",
    "d"
   ]
  },
  {
   "cell_type": "code",
   "execution_count": 8,
   "id": "a26cfa49",
   "metadata": {},
   "outputs": [
    {
     "data": {
      "text/plain": [
       "{'a': 'Apple', 'b': 'ball'}"
      ]
     },
     "execution_count": 8,
     "metadata": {},
     "output_type": "execute_result"
    }
   ],
   "source": [
    "d = {\"a\":\"apple\",\"b\":\"ball\",\"a\":\"Apple\"}\n",
    "d"
   ]
  },
  {
   "cell_type": "code",
   "execution_count": 9,
   "id": "7b73a790",
   "metadata": {},
   "outputs": [
    {
     "data": {
      "text/plain": [
       "{'a': 'Dog', 'b': 'ball', 'A': 'Apple'}"
      ]
     },
     "execution_count": 9,
     "metadata": {},
     "output_type": "execute_result"
    }
   ],
   "source": [
    "d = {\"a\":\"apple\",\"b\":\"ball\",\"A\":\"Apple\"}\n",
    "d['a']='Dog'\n",
    "d"
   ]
  },
  {
   "cell_type": "code",
   "execution_count": 10,
   "id": "c54da941",
   "metadata": {},
   "outputs": [
    {
     "data": {
      "text/plain": [
       "{'a': 'apple', 'b': 'ball', 'A': 'Apple'}"
      ]
     },
     "execution_count": 10,
     "metadata": {},
     "output_type": "execute_result"
    }
   ],
   "source": [
    "d = {\"a\":\"apple\",\"b\":\"ball\",\"A\":\"Apple\"}\n",
    "d['a']='apple'\n",
    "d"
   ]
  },
  {
   "cell_type": "code",
   "execution_count": 11,
   "id": "8aa397ff",
   "metadata": {},
   "outputs": [
    {
     "data": {
      "text/plain": [
       "{'a': 'Apple', 'b': 'Ball'}"
      ]
     },
     "execution_count": 11,
     "metadata": {},
     "output_type": "execute_result"
    }
   ],
   "source": [
    "d ={}\n",
    "d['a'] = 'Apple'\n",
    "d['b'] = 'Ball'\n",
    "d"
   ]
  },
  {
   "cell_type": "code",
   "execution_count": 20,
   "id": "b407f058",
   "metadata": {},
   "outputs": [
    {
     "name": "stdout",
     "output_type": "stream",
     "text": [
      "Enter n = 2\n",
      "Enter name= ram\n",
      "Enter phone= 1234567\n",
      "Enter name= ram\n",
      "Enter phone= `123\n",
      "{'ram': '`123'}\n"
     ]
    }
   ],
   "source": [
    "d = {}\n",
    "n = int(input(\"Enter n = \"))\n",
    "for i in range(n):\n",
    "    name = input(\"Enter name= \")\n",
    "    phone = input(\"Enter phone= \")\n",
    "    d[name]=phone\n",
    "           \n",
    "print(d)\n",
    "        "
   ]
  },
  {
   "cell_type": "code",
   "execution_count": 24,
   "id": "1a918c86",
   "metadata": {},
   "outputs": [
    {
     "name": "stdout",
     "output_type": "stream",
     "text": [
      "[('Ram', '9800793050'), ('Hari', '12345678888')]\n"
     ]
    }
   ],
   "source": [
    "l = []\n",
    "d = {'Ram':'9800793050','Hari':'12345678888'}\n",
    "for i in d.items():\n",
    "    l.append(i)\n",
    "    \n",
    "print(l)"
   ]
  },
  {
   "cell_type": "code",
   "execution_count": 25,
   "id": "d46001f4",
   "metadata": {},
   "outputs": [
    {
     "data": {
      "text/plain": [
       "{'Ram': '9800793050', 'Hari': '12345678888'}"
      ]
     },
     "execution_count": 25,
     "metadata": {},
     "output_type": "execute_result"
    }
   ],
   "source": [
    "dict(l)\n"
   ]
  },
  {
   "cell_type": "code",
   "execution_count": 26,
   "id": "56bc0dd6",
   "metadata": {},
   "outputs": [
    {
     "data": {
      "text/plain": [
       "{'Hari': '12345678888'}"
      ]
     },
     "execution_count": 26,
     "metadata": {},
     "output_type": "execute_result"
    }
   ],
   "source": [
    "# del\n",
    "d = {'Ram':'9800793050','Hari':'12345678888'}\n",
    "del d['Ram']\n",
    "d"
   ]
  },
  {
   "cell_type": "code",
   "execution_count": 30,
   "id": "5b31ae8b",
   "metadata": {},
   "outputs": [
    {
     "name": "stdout",
     "output_type": "stream",
     "text": [
      "9800793050\n",
      "{'Hari': '12345678888'}\n"
     ]
    }
   ],
   "source": [
    "# pop\n",
    "d = {'Ram':'9800793050','Hari':'12345678888'}\n",
    "c = d.pop('Ram')\n",
    "print(c)\n",
    "print(d)\n"
   ]
  },
  {
   "cell_type": "code",
   "execution_count": 1,
   "id": "4433e5f8",
   "metadata": {},
   "outputs": [
    {
     "data": {
      "text/plain": [
       "{'Ram': ['9800793050', 34567899876], 'Hari': ['12345678888', '9800793050']}"
      ]
     },
     "execution_count": 1,
     "metadata": {},
     "output_type": "execute_result"
    }
   ],
   "source": [
    "# list inside dictionary\n",
    "d = {'Ram':['9800793050',34567899876],'Hari':['12345678888','9800793050']}\n",
    "d   "
   ]
  },
  {
   "cell_type": "code",
   "execution_count": 8,
   "id": "9f60b641",
   "metadata": {},
   "outputs": [
    {
     "name": "stdout",
     "output_type": "stream",
     "text": [
      "Enter n = 2\n",
      "Enter name Ram\n",
      "Enter ntc phone9800793929\n",
      "Enter ncell phone9800789943\n",
      "Enter name Hari\n",
      "Enter ntc phone980076362\n",
      "Enter ncell phone9819427784\n",
      "{'Ram': ['9800793929', '9800789943'], 'Hari': ['980076362', '9819427784']}\n"
     ]
    }
   ],
   "source": [
    "d = {}\n",
    "n = int(input(\"Enter n = \"))\n",
    "for i in range(n):\n",
    "    name = input(\"Enter name \")\n",
    "    ntc_phone = input(\"Enter ntc phone\")\n",
    "    ncell_phone = input(\"Enter ncell phone\")\n",
    "    d[name] = [ntc_phone,ncell_phone]\n",
    "\n",
    "print(d)"
   ]
  },
  {
   "cell_type": "code",
   "execution_count": 7,
   "id": "50019a6c",
   "metadata": {},
   "outputs": [
    {
     "data": {
      "text/plain": [
       "{'Ram': ['9800793050', '34567899876'],\n",
       " 'Hari': ['12345678888', '9800793050', '9819427784']}"
      ]
     },
     "execution_count": 7,
     "metadata": {},
     "output_type": "execute_result"
    }
   ],
   "source": [
    "d = {'Ram':['9800793050','34567899876'],'Hari':['12345678888','9800793050']}\n",
    "d['Hari'].append('9819427784')\n",
    "d"
   ]
  },
  {
   "cell_type": "code",
   "execution_count": 40,
   "id": "ebfcbb94",
   "metadata": {},
   "outputs": [
    {
     "data": {
      "text/plain": [
       "{'name': ['Ram', 'Shyam', 'Hari', 'rama'],\n",
       " 'age': ['12', '32', '35', '45'],\n",
       " 'add': ['but', 'bhw', 'pok', 'bara']}"
      ]
     },
     "execution_count": 40,
     "metadata": {},
     "output_type": "execute_result"
    }
   ],
   "source": [
    "d = {'name':['Ram','Shyam','Hari'],'age':['12','32','35'],'add':['but','bhw','pok']}\n",
    "d['name'].append('rama')\n",
    "d['age'].append('45')\n",
    "d['add'].append('bara')\n",
    "d\n"
   ]
  },
  {
   "cell_type": "code",
   "execution_count": null,
   "id": "8d2ea4bd",
   "metadata": {},
   "outputs": [],
   "source": [
    "# dict inside list\n",
    "l =[{'name': Ram', 'age':, '45','add':,'but'],\n",
    "   ['name': Ram', 'age':, '45','add':,'but'],\n",
    "   ['name': Ram', 'age':, '45','add':,'but']}\n",
    "l\n",
    "   "
   ]
  },
  {
   "cell_type": "code",
   "execution_count": 15,
   "id": "20b60590",
   "metadata": {},
   "outputs": [
    {
     "name": "stdout",
     "output_type": "stream",
     "text": [
      "Enter n = 2\n",
      "Enter name = raman\n",
      "Enter age = 29\n",
      "Enter add = bhw\n",
      "Enter name = sinu\n",
      "Enter age = 43\n",
      "Enter add = but\n"
     ]
    },
    {
     "data": {
      "text/plain": [
       "[{'name': 'raman', 'age': 29, 'add': 'bhw'},\n",
       " {'name': 'sinu', 'age': 43, 'add': 'but'}]"
      ]
     },
     "execution_count": 15,
     "metadata": {},
     "output_type": "execute_result"
    }
   ],
   "source": [
    "l = []\n",
    "n = int(input(\"Enter n = \"))\n",
    "for i in range(n):\n",
    "    name =input(\"Enter name = \")\n",
    "    age =int(input(\"Enter age = \"))\n",
    "    add =input(\"Enter add = \")\n",
    "    d ={'name':name,'age':age,'add':add}\n",
    "    l.append(d)\n",
    "             \n",
    "l\n",
    "    "
   ]
  },
  {
   "cell_type": "code",
   "execution_count": 13,
   "id": "d639fcdd",
   "metadata": {},
   "outputs": [
    {
     "data": {
      "text/plain": [
       "{1: {'name': 'Ram', 'grade': 'A'},\n",
       " 2: {'name': 'Hari', 'grade': 'B'},\n",
       " 3: {'name': 'Shyam', 'grade': 'C'}}"
      ]
     },
     "execution_count": 13,
     "metadata": {},
     "output_type": "execute_result"
    }
   ],
   "source": [
    "# dict inside dict\n",
    "d = {1:{\"name\":\"Ram\",\"grade\":\"A\"},\n",
    "    2:{\"name\":\"Hari\",\"grade\":\"B\"},\n",
    "    3:{\"name\":\"Shyam\",\"grade\":\"C\"}}\n",
    "d"
   ]
  },
  {
   "cell_type": "code",
   "execution_count": 48,
   "id": "ec9e1f03",
   "metadata": {},
   "outputs": [
    {
     "data": {
      "text/plain": [
       "{1: {'name': 'Ram', 'grade': 'A'}, 2: {'name': 'Hari', 'grade': 'B'}}"
      ]
     },
     "execution_count": 48,
     "metadata": {},
     "output_type": "execute_result"
    }
   ],
   "source": [
    "d = {}\n",
    "d[1]={\"name\":\"Ram\",\"grade\":\"A\"}\n",
    "d[2]={\"name\":\"Hari\",\"grade\":\"B\"}\n",
    "d"
   ]
  },
  {
   "cell_type": "code",
   "execution_count": null,
   "id": "7d01c31a",
   "metadata": {},
   "outputs": [],
   "source": [
    "d[1]={\"name\":\"Ram\",\"grade\":\"A\"}\n",
    "d[2]={\"name\":\"Hari\",\"grade\":\"B\"}\n",
    "d"
   ]
  }
 ],
 "metadata": {
  "kernelspec": {
   "display_name": "Python 3 (ipykernel)",
   "language": "python",
   "name": "python3"
  },
  "language_info": {
   "codemirror_mode": {
    "name": "ipython",
    "version": 3
   },
   "file_extension": ".py",
   "mimetype": "text/x-python",
   "name": "python",
   "nbconvert_exporter": "python",
   "pygments_lexer": "ipython3",
   "version": "3.9.12"
  }
 },
 "nbformat": 4,
 "nbformat_minor": 5
}
