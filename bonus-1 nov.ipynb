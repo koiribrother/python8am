{
 "cells": [
  {
   "cell_type": "code",
   "execution_count": null,
   "id": "8336b08e",
   "metadata": {},
   "outputs": [],
   "source": [
    "# omperehensions: list, Dictonary"
   ]
  },
  {
   "cell_type": "code",
   "execution_count": 1,
   "id": "36aa7093",
   "metadata": {},
   "outputs": [
    {
     "data": {
      "text/plain": [
       "[0, 1, 2, 3, 4]"
      ]
     },
     "execution_count": 1,
     "metadata": {},
     "output_type": "execute_result"
    }
   ],
   "source": [
    "l = [i for i in range(5)]\n",
    "l"
   ]
  },
  {
   "cell_type": "code",
   "execution_count": 5,
   "id": "8ca2b286",
   "metadata": {},
   "outputs": [
    {
     "data": {
      "text/plain": [
       "[0, 2, 4, 6, 8, 10]"
      ]
     },
     "execution_count": 5,
     "metadata": {},
     "output_type": "execute_result"
    }
   ],
   "source": [
    "l = [i for i in range(12) if i%2 == 0]\n",
    "l"
   ]
  },
  {
   "cell_type": "code",
   "execution_count": 6,
   "id": "7d94536b",
   "metadata": {},
   "outputs": [
    {
     "data": {
      "text/plain": [
       "[12, 22, 10]"
      ]
     },
     "execution_count": 6,
     "metadata": {},
     "output_type": "execute_result"
    }
   ],
   "source": [
    "a = [12,23,45,67,33,22,10]\n",
    "l = [x for x in a if x%2 == 0]\n",
    "l"
   ]
  },
  {
   "cell_type": "code",
   "execution_count": 8,
   "id": "1ecee0b0",
   "metadata": {},
   "outputs": [
    {
     "data": {
      "text/plain": [
       "['Car', 'Bus']"
      ]
     },
     "execution_count": 8,
     "metadata": {},
     "output_type": "execute_result"
    }
   ],
   "source": [
    "a = [\"Car\",\"Bus\",\"truck\",\"jeep\",\"loder\"]\n",
    "l = [x for x in a if x[0].isupper()]\n",
    "l"
   ]
  },
  {
   "cell_type": "code",
   "execution_count": 9,
   "id": "4a45ac59",
   "metadata": {},
   "outputs": [
    {
     "data": {
      "text/plain": [
       "{1: 1, 2: 4, 3: 9, 4: 16, 5: 25, 6: 36, 7: 49, 8: 64, 9: 81, 10: 100}"
      ]
     },
     "execution_count": 9,
     "metadata": {},
     "output_type": "execute_result"
    }
   ],
   "source": [
    "d = {i:i**2 for i in range(1,11)}\n",
    "d"
   ]
  },
  {
   "cell_type": "code",
   "execution_count": 10,
   "id": "148b79d7",
   "metadata": {},
   "outputs": [
    {
     "data": {
      "text/plain": [
       "{'Car': 'car',\n",
       " 'Bus': 'bus',\n",
       " 'Truck': 'truck',\n",
       " 'Jeep': 'jeep',\n",
       " 'Loder': 'loder'}"
      ]
     },
     "execution_count": 10,
     "metadata": {},
     "output_type": "execute_result"
    }
   ],
   "source": [
    "a = [\"Car\",\"Bus\",\"Truck\",\"Jeep\",\"Loder\"]\n",
    "d = {i:i.lower() for i in a}\n",
    "d\n"
   ]
  },
  {
   "cell_type": "code",
   "execution_count": 11,
   "id": "371a4c3d",
   "metadata": {},
   "outputs": [
    {
     "name": "stdout",
     "output_type": "stream",
     "text": [
      "Enter value = ram\n",
      "Enter value = shyam\n",
      "Enter value = hari\n",
      "Enter value = balram\n",
      "Enter value = simon\n"
     ]
    },
    {
     "data": {
      "text/plain": [
       "['ram', 'shyam', 'hari', 'balram', 'simon']"
      ]
     },
     "execution_count": 11,
     "metadata": {},
     "output_type": "execute_result"
    }
   ],
   "source": [
    "l = [input(\"Enter value = \") for i in range(5)]\n",
    "l"
   ]
  },
  {
   "cell_type": "code",
   "execution_count": 12,
   "id": "8bda77b4",
   "metadata": {},
   "outputs": [
    {
     "name": "stdout",
     "output_type": "stream",
     "text": [
      "Enter name = simon\n",
      "Enter phone = 9800796765\n",
      "Enter name = ram\n",
      "Enter phone = 9805423456\n"
     ]
    },
    {
     "data": {
      "text/plain": [
       "{'simon': 9800796765, 'ram': 9805423456}"
      ]
     },
     "execution_count": 12,
     "metadata": {},
     "output_type": "execute_result"
    }
   ],
   "source": [
    "d = {input(\"Enter name = \"):int(input(\"Enter phone = \") ) for i in range(2)}\n",
    "d"
   ]
  },
  {
   "cell_type": "code",
   "execution_count": null,
   "id": "758f222f",
   "metadata": {},
   "outputs": [],
   "source": [
    "# Date & Time"
   ]
  },
  {
   "cell_type": "code",
   "execution_count": 13,
   "id": "3bba1b84",
   "metadata": {},
   "outputs": [
    {
     "name": "stdout",
     "output_type": "stream",
     "text": [
      "2022-11-01 08:33:31.704441\n"
     ]
    }
   ],
   "source": [
    "import datetime\n",
    "\n",
    "x = datetime.datetime.now()\n",
    "print(x)"
   ]
  },
  {
   "cell_type": "code",
   "execution_count": 17,
   "id": "a0a85aca",
   "metadata": {},
   "outputs": [
    {
     "name": "stdout",
     "output_type": "stream",
     "text": [
      "Tuesday\n",
      "November\n"
     ]
    }
   ],
   "source": [
    "import datetime\n",
    "x = datetime.datetime.now()\n",
    "print(x.strftime(\"%A\"))\n",
    "print(x.strftime(\"%B\"))"
   ]
  },
  {
   "cell_type": "code",
   "execution_count": 21,
   "id": "effb0b3e",
   "metadata": {},
   "outputs": [
    {
     "name": "stdout",
     "output_type": "stream",
     "text": [
      "Enter value = Hello \n",
      "0:00:05.097440\n"
     ]
    }
   ],
   "source": [
    "import datetime\n",
    "\n",
    "x = datetime.datetime.now()\n",
    "value = input(\"Enter value = \")\n",
    "y = datetime.datetime.now()\n",
    "print(y-x)"
   ]
  },
  {
   "cell_type": "code",
   "execution_count": null,
   "id": "7aaceb1c",
   "metadata": {},
   "outputs": [],
   "source": [
    "# os package"
   ]
  },
  {
   "cell_type": "code",
   "execution_count": 22,
   "id": "3d00c827",
   "metadata": {},
   "outputs": [
    {
     "data": {
      "text/plain": [
       "['.ipynb_checkpoints',\n",
       " '1st_Assignment .ipynb',\n",
       " '1st_day.ipynb',\n",
       " '2nd_day.ipynb',\n",
       " '3rd day.ipynb',\n",
       " '4th_day.ipynb',\n",
       " '5thday while loop.ipynb',\n",
       " '7th day String.ipynb',\n",
       " 'bill.csv',\n",
       " 'bonus-1 nov.ipynb',\n",
       " 'data.csv',\n",
       " 'data.txt',\n",
       " 'design_project.ipynb',\n",
       " 'Dictionary-2.ipynb',\n",
       " 'Dictionary.ipynb',\n",
       " 'file-13.ipynb',\n",
       " 'file.ipynb',\n",
       " 'function.ipynb',\n",
       " 'list-1.ipynb',\n",
       " 'list-2.ipynb',\n",
       " 'loop.ipynb',\n",
       " 'mysql.ipynb',\n",
       " 'new_data.csv',\n",
       " 'new_data.json',\n",
       " 'new_file.txt',\n",
       " 'pandas-14.ipynb',\n",
       " 'practice.ipynb',\n",
       " 'SalesReport.csv',\n",
       " 'set.ipynb',\n",
       " 'tuple.ipynb',\n",
       " 'Untitled1.ipynb']"
      ]
     },
     "execution_count": 22,
     "metadata": {},
     "output_type": "execute_result"
    }
   ],
   "source": [
    "import os\n",
    "# listdir() mkdir() chdir() remove() redir() rename()\n",
    "os.listdir()"
   ]
  },
  {
   "cell_type": "code",
   "execution_count": 20,
   "id": "67bef7aa",
   "metadata": {},
   "outputs": [
    {
     "data": {
      "text/plain": [
       "['.ipynb_checkpoints',\n",
       " '1st_Assignment .ipynb',\n",
       " '1st_day.ipynb',\n",
       " '2nd_day.ipynb',\n",
       " '3rd day.ipynb',\n",
       " '4th_day.ipynb',\n",
       " '5thday while loop.ipynb',\n",
       " '7th day String.ipynb',\n",
       " 'bijay',\n",
       " 'bill.csv',\n",
       " 'bonus-1 nov.ipynb',\n",
       " 'data.csv',\n",
       " 'data.txt',\n",
       " 'design_project.ipynb',\n",
       " 'Dictionary-2.ipynb',\n",
       " 'Dictionary.ipynb',\n",
       " 'file-13.ipynb',\n",
       " 'file.ipynb',\n",
       " 'function.ipynb',\n",
       " 'list-1.ipynb',\n",
       " 'list-2.ipynb',\n",
       " 'loop.ipynb',\n",
       " 'mysql.ipynb',\n",
       " 'nepal',\n",
       " 'newfolder',\n",
       " 'new_data.csv',\n",
       " 'new_file.txt',\n",
       " 'oop-02 nov.ipynb',\n",
       " 'pandas-14.ipynb',\n",
       " 'practice.ipynb',\n",
       " 'SalesReport.csv',\n",
       " 'set.ipynb',\n",
       " 'tuple.ipynb',\n",
       " 'Untitled1.ipynb']"
      ]
     },
     "execution_count": 20,
     "metadata": {},
     "output_type": "execute_result"
    }
   ],
   "source": [
    "# os.mkdir('newfolder')\n",
    "# os.listdir()\n",
    "\n",
    "os.mkdir('bijay')\n",
    "os.listdir()"
   ]
  },
  {
   "cell_type": "code",
   "execution_count": 24,
   "id": "88bdbae6",
   "metadata": {},
   "outputs": [],
   "source": [
    "# os.chdir('newfolder')\n"
   ]
  },
  {
   "cell_type": "code",
   "execution_count": 21,
   "id": "3bc46887",
   "metadata": {},
   "outputs": [
    {
     "data": {
      "text/plain": [
       "'C:\\\\Users\\\\Administrator\\\\python_8_am'"
      ]
     },
     "execution_count": 21,
     "metadata": {},
     "output_type": "execute_result"
    }
   ],
   "source": [
    "pwd"
   ]
  },
  {
   "cell_type": "code",
   "execution_count": 22,
   "id": "dc532645",
   "metadata": {},
   "outputs": [
    {
     "name": "stdout",
     "output_type": "stream",
     "text": [
      "C:\\Users\\Administrator\n"
     ]
    }
   ],
   "source": [
    "cd .."
   ]
  },
  {
   "cell_type": "code",
   "execution_count": 11,
   "id": "662183aa",
   "metadata": {},
   "outputs": [
    {
     "data": {
      "text/plain": [
       "['.ipynb_checkpoints',\n",
       " '1st_Assignment .ipynb',\n",
       " '1st_day.ipynb',\n",
       " '2nd_day.ipynb',\n",
       " '3rd day.ipynb',\n",
       " '4th_day.ipynb',\n",
       " '5thday while loop.ipynb',\n",
       " '7th day String.ipynb',\n",
       " 'bill.csv',\n",
       " 'bonus-1 nov.ipynb',\n",
       " 'data.csv',\n",
       " 'data.txt',\n",
       " 'design_project.ipynb',\n",
       " 'Dictionary-2.ipynb',\n",
       " 'Dictionary.ipynb',\n",
       " 'file-13.ipynb',\n",
       " 'file.ipynb',\n",
       " 'function.ipynb',\n",
       " 'list-1.ipynb',\n",
       " 'list-2.ipynb',\n",
       " 'loop.ipynb',\n",
       " 'mysql.ipynb',\n",
       " 'newfolder',\n",
       " 'new_data.csv',\n",
       " 'new_file.txt',\n",
       " 'oop-02 nov.ipynb',\n",
       " 'oop-nov-3.ipynb',\n",
       " 'pandas-14.ipynb',\n",
       " 'practice.ipynb',\n",
       " 'SalesReport.csv',\n",
       " 'set.ipynb',\n",
       " 'tuple.ipynb',\n",
       " 'Untitled1.ipynb']"
      ]
     },
     "execution_count": 11,
     "metadata": {},
     "output_type": "execute_result"
    }
   ],
   "source": [
    "os.listdir()"
   ]
  },
  {
   "cell_type": "code",
   "execution_count": 2,
   "id": "f5117639",
   "metadata": {},
   "outputs": [
    {
     "data": {
      "text/plain": [
       "['.ipynb_checkpoints',\n",
       " '1st_Assignment .ipynb',\n",
       " '1st_day.ipynb',\n",
       " '2nd_day.ipynb',\n",
       " '3rd day.ipynb',\n",
       " '4th_day.ipynb',\n",
       " '5thday while loop.ipynb',\n",
       " '7th day String.ipynb',\n",
       " 'bill.csv',\n",
       " 'bonus-1 nov.ipynb',\n",
       " 'data.csv',\n",
       " 'data.txt',\n",
       " 'design_project.ipynb',\n",
       " 'Dictionary-2.ipynb',\n",
       " 'Dictionary.ipynb',\n",
       " 'file-13.ipynb',\n",
       " 'file.ipynb',\n",
       " 'function.ipynb',\n",
       " 'list-1.ipynb',\n",
       " 'list-2.ipynb',\n",
       " 'loop.ipynb',\n",
       " 'mysql.ipynb',\n",
       " 'newfolder',\n",
       " 'new_data.csv',\n",
       " 'new_file.txt',\n",
       " 'oop-02 nov.ipynb',\n",
       " 'pandas-14.ipynb',\n",
       " 'practice.ipynb',\n",
       " 'SalesReport.csv',\n",
       " 'set.ipynb',\n",
       " 'tuple.ipynb',\n",
       " 'Untitled1.ipynb']"
      ]
     },
     "execution_count": 2,
     "metadata": {},
     "output_type": "execute_result"
    }
   ],
   "source": [
    "# trello\n",
    "# slak\n",
    "# jira\n",
    "import os\n",
    "os.listdir()"
   ]
  },
  {
   "cell_type": "code",
   "execution_count": 3,
   "id": "23a474d2",
   "metadata": {},
   "outputs": [
    {
     "data": {
      "text/plain": [
       "['.ipynb_checkpoints',\n",
       " '1st_Assignment .ipynb',\n",
       " '1st_day.ipynb',\n",
       " '2nd_day.ipynb',\n",
       " '3rd day.ipynb',\n",
       " '4th_day.ipynb',\n",
       " '5thday while loop.ipynb',\n",
       " '7th day String.ipynb',\n",
       " 'bill.csv',\n",
       " 'bonus-1 nov.ipynb',\n",
       " 'data.csv',\n",
       " 'data.txt',\n",
       " 'design_project.ipynb',\n",
       " 'Dictionary-2.ipynb',\n",
       " 'Dictionary.ipynb',\n",
       " 'file-13.ipynb',\n",
       " 'file.ipynb',\n",
       " 'function.ipynb',\n",
       " 'list-1.ipynb',\n",
       " 'list-2.ipynb',\n",
       " 'loop.ipynb',\n",
       " 'mysql.ipynb',\n",
       " 'nepal',\n",
       " 'newfolder',\n",
       " 'new_data.csv',\n",
       " 'new_file.txt',\n",
       " 'oop-02 nov.ipynb',\n",
       " 'pandas-14.ipynb',\n",
       " 'practice.ipynb',\n",
       " 'SalesReport.csv',\n",
       " 'set.ipynb',\n",
       " 'tuple.ipynb',\n",
       " 'Untitled1.ipynb']"
      ]
     },
     "execution_count": 3,
     "metadata": {},
     "output_type": "execute_result"
    }
   ],
   "source": [
    "os.mkdir('nepal')\n",
    "os.listdir()"
   ]
  },
  {
   "cell_type": "code",
   "execution_count": 16,
   "id": "65e5e097",
   "metadata": {},
   "outputs": [],
   "source": [
    "os.chdir('newfolder')"
   ]
  },
  {
   "cell_type": "code",
   "execution_count": 17,
   "id": "91b6d4b2",
   "metadata": {},
   "outputs": [
    {
     "data": {
      "text/plain": [
       "'C:\\\\Users\\\\Administrator\\\\python_8_am\\\\newfolder'"
      ]
     },
     "execution_count": 17,
     "metadata": {},
     "output_type": "execute_result"
    }
   ],
   "source": [
    "pwd"
   ]
  },
  {
   "cell_type": "code",
   "execution_count": 18,
   "id": "86dca6e2",
   "metadata": {},
   "outputs": [
    {
     "name": "stdout",
     "output_type": "stream",
     "text": [
      "C:\\Users\\Administrator\\python_8_am\n"
     ]
    }
   ],
   "source": [
    "cd .."
   ]
  },
  {
   "cell_type": "code",
   "execution_count": 6,
   "id": "be64b6c2",
   "metadata": {},
   "outputs": [],
   "source": [
    "# os.listdir()\n",
    "# os.remove('nepal')\n",
    "# os.listdir()\n",
    "import os\n",
    "os.rmdir(\"nepal\")"
   ]
  },
  {
   "cell_type": "code",
   "execution_count": 7,
   "id": "ac8c3cce",
   "metadata": {},
   "outputs": [
    {
     "data": {
      "text/plain": [
       "['.ipynb_checkpoints',\n",
       " '1st_Assignment .ipynb',\n",
       " '1st_day.ipynb',\n",
       " '2nd_day.ipynb',\n",
       " '3rd day.ipynb',\n",
       " '4th_day.ipynb',\n",
       " '5thday while loop.ipynb',\n",
       " '7th day String.ipynb',\n",
       " 'bijay',\n",
       " 'bill.csv',\n",
       " 'bonus-1 nov.ipynb',\n",
       " 'data.csv',\n",
       " 'data.txt',\n",
       " 'design_project.ipynb',\n",
       " 'Dictionary-2.ipynb',\n",
       " 'Dictionary.ipynb',\n",
       " 'file-13.ipynb',\n",
       " 'file.ipynb',\n",
       " 'function.ipynb',\n",
       " 'list-1.ipynb',\n",
       " 'list-2.ipynb',\n",
       " 'loop.ipynb',\n",
       " 'mysql.ipynb',\n",
       " 'newfolder',\n",
       " 'new_data.csv',\n",
       " 'new_file.txt',\n",
       " 'oop-02 nov.ipynb',\n",
       " 'oop-nov-3.ipynb',\n",
       " 'pandas-14.ipynb',\n",
       " 'practice.ipynb',\n",
       " 'SalesReport.csv',\n",
       " 'set.ipynb',\n",
       " 'tuple.ipynb',\n",
       " 'Untitled1.ipynb']"
      ]
     },
     "execution_count": 7,
     "metadata": {},
     "output_type": "execute_result"
    }
   ],
   "source": [
    "os.listdir()"
   ]
  },
  {
   "cell_type": "code",
   "execution_count": 8,
   "id": "4dea3bd2",
   "metadata": {},
   "outputs": [],
   "source": [
    "os.rmdir('bijay')"
   ]
  },
  {
   "cell_type": "code",
   "execution_count": 9,
   "id": "245d5902",
   "metadata": {},
   "outputs": [
    {
     "data": {
      "text/plain": [
       "['.ipynb_checkpoints',\n",
       " '1st_Assignment .ipynb',\n",
       " '1st_day.ipynb',\n",
       " '2nd_day.ipynb',\n",
       " '3rd day.ipynb',\n",
       " '4th_day.ipynb',\n",
       " '5thday while loop.ipynb',\n",
       " '7th day String.ipynb',\n",
       " 'bill.csv',\n",
       " 'bonus-1 nov.ipynb',\n",
       " 'data.csv',\n",
       " 'data.txt',\n",
       " 'design_project.ipynb',\n",
       " 'Dictionary-2.ipynb',\n",
       " 'Dictionary.ipynb',\n",
       " 'file-13.ipynb',\n",
       " 'file.ipynb',\n",
       " 'function.ipynb',\n",
       " 'list-1.ipynb',\n",
       " 'list-2.ipynb',\n",
       " 'loop.ipynb',\n",
       " 'mysql.ipynb',\n",
       " 'newfolder',\n",
       " 'new_data.csv',\n",
       " 'new_file.txt',\n",
       " 'oop-02 nov.ipynb',\n",
       " 'oop-nov-3.ipynb',\n",
       " 'pandas-14.ipynb',\n",
       " 'practice.ipynb',\n",
       " 'SalesReport.csv',\n",
       " 'set.ipynb',\n",
       " 'tuple.ipynb',\n",
       " 'Untitled1.ipynb']"
      ]
     },
     "execution_count": 9,
     "metadata": {},
     "output_type": "execute_result"
    }
   ],
   "source": [
    "os.listdir()"
   ]
  },
  {
   "cell_type": "code",
   "execution_count": null,
   "id": "151c637d",
   "metadata": {},
   "outputs": [],
   "source": []
  }
 ],
 "metadata": {
  "kernelspec": {
   "display_name": "Python 3 (ipykernel)",
   "language": "python",
   "name": "python3"
  },
  "language_info": {
   "codemirror_mode": {
    "name": "ipython",
    "version": 3
   },
   "file_extension": ".py",
   "mimetype": "text/x-python",
   "name": "python",
   "nbconvert_exporter": "python",
   "pygments_lexer": "ipython3",
   "version": "3.9.12"
  }
 },
 "nbformat": 4,
 "nbformat_minor": 5
}
