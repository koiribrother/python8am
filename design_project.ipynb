{
 "cells": [
  {
   "cell_type": "code",
   "execution_count": 3,
   "id": "705c91f3",
   "metadata": {},
   "outputs": [
    {
     "data": {
      "image/png": "[encoded data removed]",
      "text/plain": [
       "<Figure size 504x360 with 1 Axes>"
      ]
     },
     "metadata": {
      "needs_background": "light"
     },
     "output_type": "display_data"
    }
   ],
   "source": [
    "from matplotlib import pyplot as plt\n",
    "from matplotlib.animation import FuncAnimation, writers\n",
    "import numpy as np\n",
    "  \n",
    "fig = plt.figure(figsize = (7,5))\n",
    "axes = fig.add_subplot(1,1,1)\n",
    "axes.set_ylim(0, 300)\n",
    "palette = ['blue', 'red', 'green', \n",
    "           'darkorange', 'maroon', 'black']\n",
    "  \n",
    "y1, y2, y3, y4, y5, y6 = [], [], [], [], [], []\n",
    "  \n",
    "def animation_function(i):\n",
    "    y1 = i\n",
    "    y2 = 5 * i\n",
    "    y3 = 3 * i\n",
    "    y4 = 2 * i\n",
    "    y5 = 6 * i\n",
    "    y6 = 3 * i\n",
    "  \n",
    "    plt.xlabel(\"Country\")\n",
    "    plt.ylabel(\"GDP of Country\")\n",
    "      \n",
    "    plt.bar([\"India\", \"China\", \"Germany\", \n",
    "             \"USA\", \"Canada\", \"UK\"],\n",
    "            [y1, y2, y3, y4, y5, y6],\n",
    "            color = palette)\n",
    "  \n",
    "plt.title(\"Bar Chart Animation\")\n",
    "  \n",
    "animation = FuncAnimation(fig, animation_function, \n",
    "                          interval = 50)\n",
    "plt.show()"
   ]
  },
  {
   "cell_type": "code",
   "execution_count": null,
   "id": "728fa10c",
   "metadata": {},
   "outputs": [],
   "source": []
  }
 ],
 "metadata": {
  "kernelspec": {
   "display_name": "Python 3 (ipykernel)",
   "language": "python",
   "name": "python3"
  },
  "language_info": {
   "codemirror_mode": {
    "name": "ipython",
    "version": 3
   },
   "file_extension": ".py",
   "mimetype": "text/x-python",
   "name": "python",
   "nbconvert_exporter": "python",
   "pygments_lexer": "ipython3",
   "version": "3.9.12"
  }
 },
 "nbformat": 4,
 "nbformat_minor": 5
}
