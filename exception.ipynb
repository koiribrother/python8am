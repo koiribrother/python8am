{
 "cells": [
  {
   "cell_type": "code",
   "execution_count": 1,
   "id": "c1911467",
   "metadata": {},
   "outputs": [
    {
     "name": "stdout",
     "output_type": "stream",
     "text": [
      "enter valueefw\n",
      "error\n"
     ]
    }
   ],
   "source": [
    "try:\n",
    "    a= int(input(\"enter value\"))\n",
    "except:\n",
    "    print(\"error\")"
   ]
  },
  {
   "cell_type": "code",
   "execution_count": 5,
   "id": "a59ffc1e",
   "metadata": {},
   "outputs": [
    {
     "name": "stdout",
     "output_type": "stream",
     "text": [
      "enter value a = 12\n",
      "Enter value b = 23\n",
      "0.5217391304347826\n"
     ]
    }
   ],
   "source": [
    "try:\n",
    "    a = int(input(\"enter value a = \"))\n",
    "    b = int(input(\"Enter value b = \"))\n",
    "    c = a/b\n",
    "    print(c)\n",
    "except valueerror:\n",
    "    print(\"please enter int value\")\n",
    "except divisionerror:\n",
    "    print(\"value of b is can not be zero\")\n",
    "    "
   ]
  },
  {
   "cell_type": "code",
   "execution_count": 8,
   "id": "8319d4c5",
   "metadata": {},
   "outputs": [
    {
     "name": "stdout",
     "output_type": "stream",
     "text": [
      "Enter a = 1\n",
      "The value of a is odd\n"
     ]
    }
   ],
   "source": [
    "a = int(input(\"Enter a = \"))\n",
    "try:\n",
    "    assert a%2==0\n",
    "except:\n",
    "    print(\"The value of a is odd\")\n",
    "    "
   ]
  },
  {
   "cell_type": "code",
   "execution_count": null,
   "id": "cb82f09e",
   "metadata": {},
   "outputs": [],
   "source": []
  },
  {
   "cell_type": "code",
   "execution_count": null,
   "id": "ccbaf353",
   "metadata": {},
   "outputs": [],
   "source": []
  }
 ],
 "metadata": {
  "kernelspec": {
   "display_name": "Python 3 (ipykernel)",
   "language": "python",
   "name": "python3"
  },
  "language_info": {
   "codemirror_mode": {
    "name": "ipython",
    "version": 3
   },
   "file_extension": ".py",
   "mimetype": "text/x-python",
   "name": "python",
   "nbconvert_exporter": "python",
   "pygments_lexer": "ipython3",
   "version": "3.9.12"
  }
 },
 "nbformat": 4,
 "nbformat_minor": 5
}
