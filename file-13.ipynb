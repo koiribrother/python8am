{
 "cells": [
  {
   "cell_type": "code",
   "execution_count": null,
   "id": "4dba8e23",
   "metadata": {},
   "outputs": [],
   "source": [
    "# file = open(<file_path>',<mode>')\n",
    "# file.close()"
   ]
  },
  {
   "cell_type": "code",
   "execution_count": null,
   "id": "c63f42a2",
   "metadata": {},
   "outputs": [],
   "source": [
    "# with open ('<file_name>'<mode>')as file.\n",
    "#            <operation>"
   ]
  },
  {
   "cell_type": "code",
   "execution_count": null,
   "id": "9db7ea01",
   "metadata": {},
   "outputs": [],
   "source": [
    "# mode\n",
    "# read->'r'\n",
    "# create->'c'\n",
    "# write->'w'\n",
    "# append->'a'"
   ]
  },
  {
   "cell_type": "code",
   "execution_count": 11,
   "id": "4ade0401",
   "metadata": {},
   "outputs": [
    {
     "name": "stdout",
     "output_type": "stream",
     "text": [
      "The file is already created\n"
     ]
    }
   ],
   "source": [
    "try:\n",
    "    file = open('new_file.txt','x')\n",
    "    file.close()\n",
    "except:\n",
    "    print(\"The file is already created\")"
   ]
  },
  {
   "cell_type": "code",
   "execution_count": 13,
   "id": "09adff04",
   "metadata": {},
   "outputs": [
    {
     "name": "stdout",
     "output_type": "stream",
     "text": [
      "1.Hello World\n",
      "2.Hello World\n",
      "3.Hello World\n",
      "4.Hello World\n",
      "5.Hello World\n",
      "6.Hello World\n",
      "<class 'str'>\n"
     ]
    }
   ],
   "source": [
    "#Read file\n",
    "file = open('new_file.txt','r')\n",
    "x = file.read()\n",
    "print(x)\n",
    "print(type(x))\n",
    "file.close()"
   ]
  },
  {
   "cell_type": "code",
   "execution_count": 16,
   "id": "20140d7e",
   "metadata": {},
   "outputs": [
    {
     "name": "stdout",
     "output_type": "stream",
     "text": [
      "Enter n = 5\n"
     ]
    },
    {
     "data": {
      "text/plain": [
       "'5.Hello World'"
      ]
     },
     "execution_count": 16,
     "metadata": {},
     "output_type": "execute_result"
    }
   ],
   "source": [
    "n = int(input(\"Enter n = \"))\n",
    "x.split('\\n')[n-1]"
   ]
  },
  {
   "cell_type": "code",
   "execution_count": 18,
   "id": "87851fec",
   "metadata": {},
   "outputs": [],
   "source": [
    "with open('data.txt','w') as file:\n",
    "    file.write('Hello World')"
   ]
  },
  {
   "cell_type": "code",
   "execution_count": 1,
   "id": "3fe8b019",
   "metadata": {},
   "outputs": [],
   "source": []
  },
  {
   "cell_type": "code",
   "execution_count": 19,
   "id": "5adf7c77",
   "metadata": {},
   "outputs": [
    {
     "name": "stdout",
     "output_type": "stream",
     "text": [
      "Enter n = 2\n",
      "Enter name = ram\n",
      "Enter age = 23\n",
      "Enter add = ktm\n",
      "ram 23 ktm\n",
      "\n",
      "Enter name = Bishal \n",
      "Enter age = 20\n",
      "Enter add = Bhw\n",
      "ram 23 ktm\n",
      "Bishal  20 Bhw\n",
      "\n"
     ]
    }
   ],
   "source": [
    "s =\"\"\n",
    "n = int(input(\"Enter n = \"))\n",
    "for i in range(n):\n",
    "    name = input(\"Enter name = \")\n",
    "    age = input(\"Enter age = \")\n",
    "    add = input(\"Enter add = \")\n",
    "    s =s+f\"{name} {age} {add}\\n\"\n",
    "#     s =s+bill\n",
    "    print(s)\n",
    "    \n",
    "with open('data.txt','w')as file:\n",
    "    file.write(s)"
   ]
  },
  {
   "cell_type": "code",
   "execution_count": 20,
   "id": "28150fe3",
   "metadata": {},
   "outputs": [
    {
     "data": {
      "text/plain": [
       "'C:\\\\Users\\\\Administrator\\\\python_8_am'"
      ]
     },
     "execution_count": 20,
     "metadata": {},
     "output_type": "execute_result"
    }
   ],
   "source": [
    "pwd"
   ]
  },
  {
   "cell_type": "code",
   "execution_count": 21,
   "id": "4108a365",
   "metadata": {},
   "outputs": [
    {
     "name": "stdout",
     "output_type": "stream",
     "text": [
      "Enter n = 2\n",
      "Enter name = Apple\n",
      "Enter price = 50\n",
      "Enter quantity = 2\n",
      "Enter name = Mango\n",
      "Enter price = 100\n",
      "Enter quantity = 4\n",
      "Apple 50 2 100\n",
      "Mango 100 4 400\n",
      "\n"
     ]
    }
   ],
   "source": [
    "s = str()\n",
    "n = int(input(\"Enter n = \"))\n",
    "for i in range(n):\n",
    "    name = input(\"Enter name = \")\n",
    "    price = int(input(\"Enter price = \"))\n",
    "    quantity = int(input(\"Enter quantity = \"))\n",
    "    total = price*quantity\n",
    "    bill = f\"{name} {price} {quantity} {total}\\n\"\n",
    "    s = s+bill\n",
    "    \n",
    "print(s)\n",
    "with open('data.txt','w') as file:\n",
    "    file.write(s)"
   ]
  },
  {
   "cell_type": "code",
   "execution_count": 22,
   "id": "21a55e82",
   "metadata": {},
   "outputs": [
    {
     "name": "stdout",
     "output_type": "stream",
     "text": [
      "Enter n = 2\n",
      "Enter name = Apple\n",
      "Enter price = 2\n",
      "Enter quantity = 4\n",
      "Enter name = biscute\n",
      "Enter price = 20\n",
      "Enter quantity = 2\n",
      "Apple,2,4,8\n",
      "biscute,20,2,40\n",
      "\n"
     ]
    }
   ],
   "source": [
    "#csv file\n",
    "s = str()\n",
    "n = int(input(\"Enter n = \"))\n",
    "for i in range(n):\n",
    "    name = input(\"Enter name = \")\n",
    "    price = int(input(\"Enter price = \"))\n",
    "    quantity = int(input(\"Enter quantity = \"))\n",
    "    total = price*quantity\n",
    "    bill = f\"{name},{price},{quantity},{total}\\n\"\n",
    "    s = s+bill\n",
    "    \n",
    "print(s)\n",
    "with open('data.csv','w') as file:\n",
    "    file.write('Name,Price,Quantity,Total\\n')\n",
    "    file.write(s)"
   ]
  },
  {
   "cell_type": "code",
   "execution_count": 23,
   "id": "276e7551",
   "metadata": {},
   "outputs": [
    {
     "data": {
      "text/html": [
       "<div>\n",
       "<style scoped>\n",
       "    .dataframe tbody tr th:only-of-type {\n",
       "        vertical-align: middle;\n",
       "    }\n",
       "\n",
       "    .dataframe tbody tr th {\n",
       "        vertical-align: top;\n",
       "    }\n",
       "\n",
       "    .dataframe thead th {\n",
       "        text-align: right;\n",
       "    }\n",
       "</style>\n",
       "<table border=\"1\" class=\"dataframe\">\n",
       "  <thead>\n",
       "    <tr style=\"text-align: right;\">\n",
       "      <th></th>\n",
       "      <th>Name</th>\n",
       "      <th>Price</th>\n",
       "      <th>Quantity</th>\n",
       "      <th>Total</th>\n",
       "    </tr>\n",
       "  </thead>\n",
       "  <tbody>\n",
       "    <tr>\n",
       "      <th>0</th>\n",
       "      <td>Apple</td>\n",
       "      <td>2</td>\n",
       "      <td>4</td>\n",
       "      <td>8</td>\n",
       "    </tr>\n",
       "    <tr>\n",
       "      <th>1</th>\n",
       "      <td>biscute</td>\n",
       "      <td>20</td>\n",
       "      <td>2</td>\n",
       "      <td>40</td>\n",
       "    </tr>\n",
       "  </tbody>\n",
       "</table>\n",
       "</div>"
      ],
      "text/plain": [
       "      Name  Price  Quantity  Total\n",
       "0    Apple      2         4      8\n",
       "1  biscute     20         2     40"
      ]
     },
     "execution_count": 23,
     "metadata": {},
     "output_type": "execute_result"
    }
   ],
   "source": [
    "#pip install pandas\n",
    "import pandas as pd\n",
    "df = pd.read_csv('data.csv')\n",
    "df"
   ]
  },
  {
   "cell_type": "code",
   "execution_count": 25,
   "id": "a8743a86",
   "metadata": {},
   "outputs": [],
   "source": [
    "import csv\n",
    "a = [['Name','Price','Quantity','Total'],\n",
    "     ['Momo',200,3,600],\n",
    "     ['Coke',100,2,200]]\n",
    "with open('bill.csv','w') as file:\n",
    "    x = csv.writer(file)\n",
    "    x.writerows(a)"
   ]
  },
  {
   "cell_type": "code",
   "execution_count": null,
   "id": "6e7c0243",
   "metadata": {},
   "outputs": [],
   "source": [
    "# import csv\n",
    "# data = []\n",
    "# with open('bill.csv','r') as file:\n",
    "#     reader = csv.DictReader(file)\n",
    "#     for i in reader:\n",
    "#         data.append(i)\n",
    "        \n",
    "# data"
   ]
  },
  {
   "cell_type": "code",
   "execution_count": 41,
   "id": "ed847503",
   "metadata": {},
   "outputs": [
    {
     "data": {
      "text/plain": [
       "[{'Name': 'Momo', 'Price': '200', 'Quantity': '3', 'Total': '600'},\n",
       " {'Name': 'Coke', 'Price': '100', 'Quantity': '2', 'Total': '200'}]"
      ]
     },
     "execution_count": 41,
     "metadata": {},
     "output_type": "execute_result"
    }
   ],
   "source": [
    "import csv \n",
    "data =[]\n",
    "with open('bill.csv','r') as file:\n",
    "    reader = csv.DictReader(file)\n",
    "    for i in reader:\n",
    "        data.append(i)\n",
    "        \n",
    "data"
   ]
  },
  {
   "cell_type": "code",
   "execution_count": 50,
   "id": "8cdc83aa",
   "metadata": {},
   "outputs": [
    {
     "name": "stdout",
     "output_type": "stream",
     "text": [
      "['Name,Price,Quantity,Total', 'Apple,2,4,8', 'biscute,20,2,40', '']\n"
     ]
    }
   ],
   "source": [
    "file = open('data.csv','r')\n",
    "x = file.read()\n",
    "y = x.split('\\n')\n",
    "print(y)\n",
    "file.close()\n"
   ]
  },
  {
   "cell_type": "code",
   "execution_count": 51,
   "id": "58c28854",
   "metadata": {},
   "outputs": [
    {
     "data": {
      "text/plain": [
       "[['Name', 'Price', 'Quantity', 'Total'],\n",
       " ['Apple', '2', '4', '8'],\n",
       " ['biscute', '20', '2', '40']]"
      ]
     },
     "execution_count": 51,
     "metadata": {},
     "output_type": "execute_result"
    }
   ],
   "source": [
    "all_result=[]\n",
    "for i in y[0:-1]:\n",
    "    all_result.append(i.split(','))\n",
    "    \n",
    "all_result"
   ]
  },
  {
   "cell_type": "code",
   "execution_count": 52,
   "id": "e999ccef",
   "metadata": {},
   "outputs": [],
   "source": [
    "import csv\n",
    "a = ['Pizza',200,4,800]\n",
    "with open('bill.csv','a') as file:\n",
    "    x = csv.writer(file)\n",
    "    x.writerow(a)"
   ]
  },
  {
   "cell_type": "code",
   "execution_count": null,
   "id": "facfb5f9",
   "metadata": {},
   "outputs": [],
   "source": []
  }
 ],
 "metadata": {
  "kernelspec": {
   "display_name": "Python 3 (ipykernel)",
   "language": "python",
   "name": "python3"
  },
  "language_info": {
   "codemirror_mode": {
    "name": "ipython",
    "version": 3
   },
   "file_extension": ".py",
   "mimetype": "text/x-python",
   "name": "python",
   "nbconvert_exporter": "python",
   "pygments_lexer": "ipython3",
   "version": "3.9.12"
  }
 },
 "nbformat": 4,
 "nbformat_minor": 5
}
