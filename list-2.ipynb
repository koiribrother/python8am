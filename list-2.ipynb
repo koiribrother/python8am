{
 "cells": [
  {
   "cell_type": "code",
   "execution_count": 1,
   "id": "eec25a79",
   "metadata": {},
   "outputs": [
    {
     "data": {
      "text/plain": [
       "['Apple', 'Ball', 'Cat']"
      ]
     },
     "execution_count": 1,
     "metadata": {},
     "output_type": "execute_result"
    }
   ],
   "source": [
    "a = []\n",
    "a.append('Apple')\n",
    "a.append('Ball')\n",
    "a.append('Cat')\n",
    "a"
   ]
  },
  {
   "cell_type": "code",
   "execution_count": 2,
   "id": "36f1f36f",
   "metadata": {},
   "outputs": [
    {
     "data": {
      "text/plain": [
       "['Apple', 'Ball', 'Cat', 'Dog']"
      ]
     },
     "execution_count": 2,
     "metadata": {},
     "output_type": "execute_result"
    }
   ],
   "source": [
    "a = ['Apple', 'Ball', 'Cat']\n",
    "a.append('Dog')\n",
    "a"
   ]
  },
  {
   "cell_type": "code",
   "execution_count": 3,
   "id": "548f0ccf",
   "metadata": {},
   "outputs": [
    {
     "name": "stdout",
     "output_type": "stream",
     "text": [
      "Enter n = 2\n",
      "Enter x = apple\n",
      "['apple']\n",
      "Enter x = ball\n",
      "['apple', 'ball']\n"
     ]
    }
   ],
   "source": [
    "a = list()\n",
    "n = int(input(\"Enter n = \"))\n",
    "for i in range(n):\n",
    "    x = input(\"Enter x = \")\n",
    "    a.append(x)\n",
    "    print(a)"
   ]
  },
  {
   "cell_type": "code",
   "execution_count": 4,
   "id": "1822208c",
   "metadata": {},
   "outputs": [
    {
     "data": {
      "text/plain": [
       "['Apple', 'Apple', 'Ball', 'Cat']"
      ]
     },
     "execution_count": 4,
     "metadata": {},
     "output_type": "execute_result"
    }
   ],
   "source": [
    "a = ['Apple', 'Ball', 'Cat']\n",
    "a.insert(1,'Apple')\n",
    "a"
   ]
  },
  {
   "cell_type": "code",
   "execution_count": 5,
   "id": "d21f3a23",
   "metadata": {},
   "outputs": [
    {
     "data": {
      "text/plain": [
       "['Apple', 'Ball', 'Cat', 'Fish', 'Cow']"
      ]
     },
     "execution_count": 5,
     "metadata": {},
     "output_type": "execute_result"
    }
   ],
   "source": [
    "a = ['Apple', 'Ball', 'Cat']\n",
    "b = ['Fish','Cow']\n",
    "a.extend(b)\n",
    "a"
   ]
  },
  {
   "cell_type": "code",
   "execution_count": 6,
   "id": "67c8896e",
   "metadata": {},
   "outputs": [
    {
     "data": {
      "text/plain": [
       "['apple', 'Ball', 'Cat']"
      ]
     },
     "execution_count": 6,
     "metadata": {},
     "output_type": "execute_result"
    }
   ],
   "source": [
    "a = ['Apple', 'Ball', 'Cat']\n",
    "a[0]='apple'\n",
    "a"
   ]
  },
  {
   "cell_type": "code",
   "execution_count": 9,
   "id": "ef9e7403",
   "metadata": {},
   "outputs": [
    {
     "data": {
      "text/plain": [
       "['Apple', 'cat', 'apple']"
      ]
     },
     "execution_count": 9,
     "metadata": {},
     "output_type": "execute_result"
    }
   ],
   "source": [
    "a = ['Apple', 'Ball', 'Cat']\n",
    "a[2]= 'apple'\n",
    "a[1]= 'cat'\n",
    "a\n"
   ]
  },
  {
   "cell_type": "code",
   "execution_count": 10,
   "id": "e232be92",
   "metadata": {},
   "outputs": [
    {
     "data": {
      "text/plain": [
       "['Apple', 'Cat']"
      ]
     },
     "execution_count": 10,
     "metadata": {},
     "output_type": "execute_result"
    }
   ],
   "source": [
    "a = ['Apple', 'Ball', 'Cat']\n",
    "del a[1]\n",
    "a"
   ]
  },
  {
   "cell_type": "code",
   "execution_count": 11,
   "id": "ffc4f8a8",
   "metadata": {},
   "outputs": [
    {
     "data": {
      "text/plain": [
       "['Cat', 'Fish']"
      ]
     },
     "execution_count": 11,
     "metadata": {},
     "output_type": "execute_result"
    }
   ],
   "source": [
    "a = ['Apple', 'Ball', 'Cat','Fish']\n",
    "del a[0:2]\n",
    "a"
   ]
  },
  {
   "cell_type": "code",
   "execution_count": 12,
   "id": "52462d27",
   "metadata": {},
   "outputs": [
    {
     "data": {
      "text/plain": [
       "['Apple', 'Ball', 'Cat']"
      ]
     },
     "execution_count": 12,
     "metadata": {},
     "output_type": "execute_result"
    }
   ],
   "source": [
    "a = ['Apple', 'Ball', 'Cat','Fish']\n",
    "a.remove('Fish')\n",
    "a"
   ]
  },
  {
   "cell_type": "code",
   "execution_count": 14,
   "id": "dc6d35f9",
   "metadata": {},
   "outputs": [
    {
     "data": {
      "text/plain": [
       "['Ball', 'Cat']"
      ]
     },
     "execution_count": 14,
     "metadata": {},
     "output_type": "execute_result"
    }
   ],
   "source": [
    "a = ['Apple', 'Ball', 'Cat','Apple']\n",
    "l = a.count('Apple')\n",
    "for i in range(2):\n",
    "    a.remove('Apple')\n",
    "a"
   ]
  },
  {
   "cell_type": "code",
   "execution_count": 18,
   "id": "0e5c29d7",
   "metadata": {},
   "outputs": [
    {
     "data": {
      "text/plain": [
       "2"
      ]
     },
     "execution_count": 18,
     "metadata": {},
     "output_type": "execute_result"
    }
   ],
   "source": [
    "a = ['Apple', 'Ball', 'Cat','Apple']\n",
    "a.index('Cat')\n"
   ]
  },
  {
   "cell_type": "code",
   "execution_count": 23,
   "id": "af058506",
   "metadata": {},
   "outputs": [
    {
     "name": "stdout",
     "output_type": "stream",
     "text": [
      "0\n",
      "3\n"
     ]
    }
   ],
   "source": [
    "a = ['Apple', 'Ball', 'Cat','Apple']\n",
    "l =len(a)\n",
    "for i in range(l):\n",
    "    if a[i]=='Apple':\n",
    "       print(i)"
   ]
  },
  {
   "cell_type": "code",
   "execution_count": 24,
   "id": "1d9ed8c0",
   "metadata": {},
   "outputs": [
    {
     "data": {
      "text/plain": [
       "['apple', 'Ball', 'Cat', 'apple']"
      ]
     },
     "execution_count": 24,
     "metadata": {},
     "output_type": "execute_result"
    }
   ],
   "source": [
    "a = ['Apple', 'Ball', 'Cat','Apple']\n",
    "l =len(a)\n",
    "for i in range(l):\n",
    "    if a[i]=='Apple':\n",
    "       a[i] = 'apple'\n",
    "a\n"
   ]
  },
  {
   "cell_type": "code",
   "execution_count": 28,
   "id": "efc36141",
   "metadata": {},
   "outputs": [
    {
     "name": "stdout",
     "output_type": "stream",
     "text": [
      "Enter x =Apple\n",
      "Enter y =Ball\n"
     ]
    },
    {
     "data": {
      "text/plain": [
       "['Ball', 'Ball', 'Cat', 'Ball']"
      ]
     },
     "execution_count": 28,
     "metadata": {},
     "output_type": "execute_result"
    }
   ],
   "source": [
    "a = ['Apple', 'Ball', 'Cat','Apple']\n",
    "b = []\n",
    "x = input(\"Enter x =\")\n",
    "y = input(\"Enter y =\")\n",
    "for i in a:\n",
    "    if i == x:\n",
    "        b.append(y)\n",
    "    else:\n",
    "        b.append(i)\n",
    "b"
   ]
  },
  {
   "cell_type": "code",
   "execution_count": 30,
   "id": "4dc75bb3",
   "metadata": {},
   "outputs": [
    {
     "name": "stdout",
     "output_type": "stream",
     "text": [
      "Yes 2\n"
     ]
    }
   ],
   "source": [
    "a = ['Apple', 'Ball', 'Cat','Apple']\n",
    "if \"Apple\" in a:\n",
    "    print(\"Yes\",a.count(\"Apple\"))\n",
    "    "
   ]
  },
  {
   "cell_type": "code",
   "execution_count": 31,
   "id": "4ead7b3a",
   "metadata": {},
   "outputs": [],
   "source": [
    "# wap to search any value inside a list"
   ]
  },
  {
   "cell_type": "code",
   "execution_count": 33,
   "id": "dc2c631d",
   "metadata": {},
   "outputs": [
    {
     "data": {
      "text/plain": [
       "'30'"
      ]
     },
     "execution_count": 33,
     "metadata": {},
     "output_type": "execute_result"
    }
   ],
   "source": [
    "# List inside list(nested_list)\n",
    "a = [['Ram','30','Bhw'],['Hari','45','ktm'],['Ravi','35','pok']]\n",
    "\n",
    "b =[[1,2,3],[4,5,6],[7,8,9]]\n",
    "a[0][1]"
   ]
  },
  {
   "cell_type": "code",
   "execution_count": 34,
   "id": "ac723bf4",
   "metadata": {},
   "outputs": [
    {
     "data": {
      "text/plain": [
       "[['Ram', '30', 'Bhw'],\n",
       " ['Hari', '45', 'ktm'],\n",
       " ['Ravi', '35', 'pok'],\n",
       " ['Ram', '30', 'Bhw']]"
      ]
     },
     "execution_count": 34,
     "metadata": {},
     "output_type": "execute_result"
    }
   ],
   "source": [
    "a.append(['Ram','30','Bhw'])\n",
    "a"
   ]
  },
  {
   "cell_type": "code",
   "execution_count": 37,
   "id": "521ae92e",
   "metadata": {},
   "outputs": [
    {
     "data": {
      "text/plain": [
       "[['Ram', '30', 'Bhw'],\n",
       " ['Hari', '45', 'ktm'],\n",
       " ['Ram', '30', 'Bhw'],\n",
       " ['Ravi', '35', 'pok'],\n",
       " ['Ram', '30', 'Bhw']]"
      ]
     },
     "execution_count": 37,
     "metadata": {},
     "output_type": "execute_result"
    }
   ],
   "source": [
    "a.insert(2,['Ram','30','Bhw'])\n",
    "a"
   ]
  },
  {
   "cell_type": "code",
   "execution_count": 38,
   "id": "c3de58b0",
   "metadata": {},
   "outputs": [
    {
     "name": "stdout",
     "output_type": "stream",
     "text": [
      "['Ram', '30', 'Bhw']\n",
      "['Hari', '45', 'ktm']\n",
      "['Ram', '30', 'Bhw']\n",
      "['Ravi', '35', 'pok']\n",
      "['Ram', '30', 'Bhw']\n"
     ]
    }
   ],
   "source": [
    "for i in a:\n",
    "    print(i)"
   ]
  },
  {
   "cell_type": "code",
   "execution_count": 39,
   "id": "cb0dc340",
   "metadata": {},
   "outputs": [
    {
     "name": "stdout",
     "output_type": "stream",
     "text": [
      "Enter name = Ravi\n",
      "['Ravi', '35', 'pok']\n"
     ]
    }
   ],
   "source": [
    "search = input(\"Enter name = \")\n",
    "for i in a:\n",
    "    if search in i:\n",
    "        print(i)"
   ]
  },
  {
   "cell_type": "code",
   "execution_count": 40,
   "id": "8d4f91be",
   "metadata": {},
   "outputs": [
    {
     "data": {
      "text/plain": [
       "[['Ram', '30', 'Bhw'],\n",
       " ['Hari', '45', 'ktm'],\n",
       " ['Ram', '30', 'Bhw'],\n",
       " ['Ravi', '35', 'pok'],\n",
       " ['Ram', '30', 'Bhw']]"
      ]
     },
     "execution_count": 40,
     "metadata": {},
     "output_type": "execute_result"
    }
   ],
   "source": [
    "a"
   ]
  },
  {
   "cell_type": "code",
   "execution_count": 41,
   "id": "1c0fbc37",
   "metadata": {},
   "outputs": [
    {
     "data": {
      "text/plain": [
       "[['Shyam', '40', 'but'],\n",
       " ['Hari', '45', 'ktm'],\n",
       " ['Ram', '30', 'Bhw'],\n",
       " ['Ravi', '35', 'pok'],\n",
       " ['Ram', '30', 'Bhw']]"
      ]
     },
     "execution_count": 41,
     "metadata": {},
     "output_type": "execute_result"
    }
   ],
   "source": [
    "a[0]= ['Shyam','40','but']\n",
    "a"
   ]
  },
  {
   "cell_type": "code",
   "execution_count": 42,
   "id": "73e820db",
   "metadata": {},
   "outputs": [
    {
     "data": {
      "text/plain": [
       "[['Shyam', '40', 'but'],\n",
       " ['Hari', '45', 'ktm'],\n",
       " ['Roman', '30', 'Bhw'],\n",
       " ['Ravi', '35', 'pok'],\n",
       " ['Ram', '30', 'Bhw']]"
      ]
     },
     "execution_count": 42,
     "metadata": {},
     "output_type": "execute_result"
    }
   ],
   "source": [
    "a[2][0] = 'Roman'\n",
    "a"
   ]
  },
  {
   "cell_type": "code",
   "execution_count": 43,
   "id": "33cd4e2f",
   "metadata": {},
   "outputs": [],
   "source": [
    "# wap to create a matrix\n",
    "# r=?\n",
    "# c=?\n",
    "# x=?"
   ]
  },
  {
   "cell_type": "code",
   "execution_count": 46,
   "id": "da885ca2",
   "metadata": {},
   "outputs": [
    {
     "data": {
      "text/plain": [
       "2"
      ]
     },
     "execution_count": 46,
     "metadata": {},
     "output_type": "execute_result"
    }
   ],
   "source": [
    "a.index(['Roman', '30', 'Bhw'])\n"
   ]
  },
  {
   "cell_type": "code",
   "execution_count": null,
   "id": "52241c17",
   "metadata": {},
   "outputs": [],
   "source": [
    "# wap to remove duplicate data in list inside list"
   ]
  }
 ],
 "metadata": {
  "kernelspec": {
   "display_name": "Python 3 (ipykernel)",
   "language": "python",
   "name": "python3"
  },
  "language_info": {
   "codemirror_mode": {
    "name": "ipython",
    "version": 3
   },
   "file_extension": ".py",
   "mimetype": "text/x-python",
   "name": "python",
   "nbconvert_exporter": "python",
   "pygments_lexer": "ipython3",
   "version": "3.9.12"
  }
 },
 "nbformat": 4,
 "nbformat_minor": 5
}
