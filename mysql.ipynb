{
 "cells": [
  {
   "cell_type": "code",
   "execution_count": 1,
   "id": "27680d54",
   "metadata": {},
   "outputs": [
    {
     "name": "stdout",
     "output_type": "stream",
     "text": [
      "Requirement already satisfied: mysql-connector in c:\\users\\administrator\\anaconda3\\lib\\site-packages (2.2.9)\n"
     ]
    }
   ],
   "source": [
    "!pip install mysql-connector"
   ]
  },
  {
   "cell_type": "code",
   "execution_count": 1,
   "id": "d6aeb36d",
   "metadata": {},
   "outputs": [],
   "source": [
    "import mysql.connector   #importing database\n",
    "database = mysql.connector.connect(\n",
    "host=\"localhost\",\n",
    "user=\"root\",\n",
    "password=\"\"\n",
    ")\n",
    "db = database.cursor()\n",
    "\n",
    "db.execute(\"CREATE DATABASE bhw\")"
   ]
  },
  {
   "cell_type": "code",
   "execution_count": 4,
   "id": "b1b385bd",
   "metadata": {},
   "outputs": [],
   "source": [
    "# How to connect database mysql server\n",
    "\n",
    "import mysql.connector   #importing database\n",
    "database = mysql.connector.connect(\n",
    "host=\"localhost\",\n",
    "user=\"root\",\n",
    "password=\"\",\n",
    "    database=\"class8am\"\n",
    "\n",
    ")\n",
    "db = database.cursor()"
   ]
  },
  {
   "cell_type": "code",
   "execution_count": 5,
   "id": "b6e09872",
   "metadata": {},
   "outputs": [
    {
     "name": "stdout",
     "output_type": "stream",
     "text": [
      "(1, 'Bishal', 80.0, 90.0, 98.0, 78.0, 76.0, 423.0, 84.6, 'A')\n",
      "(2, 'Shree', 80.0, 90.0, 100.0, 50.0, 60.0, 290.0, 58.0, 'c+')\n",
      "(3, 'bijay', 70.0, 80.0, 79.0, 90.0, 98.0, 417.0, 84.5, 'A')\n",
      "(6, 'ravi', 67.0, 56.0, 78.0, 78.0, 89.0, 400.0, 67.0, 'b')\n",
      "(11, 'simon', 76.0, 56.0, 87.0, 89.0, 89.0, 415.0, 67.0, 'B')\n",
      "(13, 'prince', 667.0, 78.0, 78.0, 89.0, 90.0, 1002.0, 250.5, 'A')\n",
      "(14, 'bikash', 45.0, 0.0, 0.0, 0.0, 0.0, 0.0, 0.0, '')\n",
      "(15, 'gauri', 67.0, 56.0, 57.0, 78.0, 89.0, 347.0, 86.75, 'A')\n"
     ]
    }
   ],
   "source": [
    "# How to check whole data of database from table\n",
    "\n",
    "db.execute(\"SELECT * FROM student1\")\n",
    "result =db.fetchall()\n",
    "for x in result:\n",
    "    print(x)"
   ]
  },
  {
   "cell_type": "code",
   "execution_count": 5,
   "id": "54003e10",
   "metadata": {},
   "outputs": [
    {
     "name": "stdout",
     "output_type": "stream",
     "text": [
      "(1, 'Bishal', 423.0, 'A')\n",
      "(2, 'Shree', 290.0, 'c+')\n",
      "(3, 'bijay', 417.0, 'A')\n",
      "(11, 'simon', 415.0, 'B')\n"
     ]
    }
   ],
   "source": [
    "# Search data from anywhere\n",
    "\n",
    "db.execute(\"SELECT sn,name,total,grade FROM student1\")\n",
    "result =db.fetchall()\n",
    "for x in result:\n",
    "    print(x)"
   ]
  },
  {
   "cell_type": "code",
   "execution_count": 13,
   "id": "6d698b5c",
   "metadata": {},
   "outputs": [],
   "source": [
    "# sql='''INSERT INTO `student1` (sn, name, math, science, nepali, health, social, total, per, grade)\n",
    "# VALUES (9,'ram', 76, 56, 87, 89, 89, 415, 68, 'B');'''\n",
    "# db.execute(sql)\n",
    "# database.commit()\n",
    "\n",
    "# to insert the data\n",
    "sql='''INSERT INTO `student1` (`sn`, `name`, `math`, `science`, `nepali`, `health`, `social`, `total`, `per`, `grade`)\n",
    "VALUES ('6', 'ravi', '67', '56', '78', '78', '89', '400', '67', 'b')'''\n",
    "db.execute(sql)\n",
    "database.commit()"
   ]
  },
  {
   "cell_type": "code",
   "execution_count": 11,
   "id": "28f7962f",
   "metadata": {},
   "outputs": [
    {
     "name": "stdout",
     "output_type": "stream",
     "text": [
      "Enter your Name = gauri\n",
      "Enter your Math marks: 67\n",
      "Enter your Science marks: 56\n",
      "Enter your Nepali marks: 57\n",
      "Enter your chemistry marks: 78\n",
      "Enter your chemistry marks: 89\n",
      "INSERT INTO `student1` ( name, math, science, nepali, health, social, total, per, grade)\n",
      "VALUES ('gauri',67,56,57,78,89,347,86.75,'A')\n"
     ]
    }
   ],
   "source": [
    "# how to make registration form mysql\n",
    "\n",
    "name = input(\"Enter your Name = \")\n",
    "math =int(input(\"Enter your Math marks: \"))\n",
    "science = int(input(\"Enter your Science marks: \"))\n",
    "nepali = int(input(\"Enter your Nepali marks: \"))\n",
    "health = int(input(\"Enter your chemistry marks: \"))\n",
    "social = int(input(\"Enter your chemistry marks: \"))\n",
    "total = math+science+nepali+health+social\n",
    "per = total/4\n",
    "\n",
    "if per>=80:\n",
    "    grade = \"A\"\n",
    "elif per>=60:\n",
    "    grade = \"B\"\n",
    "elif per>=50:\n",
    "    grade = \"C\"\n",
    "elif per>=40:\n",
    "    grade = \"D\"\n",
    "else:\n",
    "    grade =\"F\" \n",
    "    \n",
    "sql=f'''INSERT INTO `student1` ( name, math, science, nepali, health, social, total, per, grade)\n",
    "VALUES ('{name}',{math},{science},{nepali},{health},{social},{total},{per},'{grade}')'''\n",
    "print(sql)\n",
    "db.execute(sql)\n",
    "database.commit()"
   ]
  },
  {
   "cell_type": "code",
   "execution_count": 32,
   "id": "234f4e00",
   "metadata": {},
   "outputs": [],
   "source": [
    "# Delete\n",
    "sql=\"DELETE FROM student1 WHERE sn=10\"\n",
    "db.execute(sql)\n",
    "database.commit()"
   ]
  },
  {
   "cell_type": "code",
   "execution_count": 35,
   "id": "0e78a931",
   "metadata": {},
   "outputs": [],
   "source": [
    "# update\n",
    "sql = \"UPDATE student1 SET name = 'bijay' WHERE name = 'Hari'\"\n",
    "db.execute(sql)\n",
    "database.commit()"
   ]
  },
  {
   "cell_type": "code",
   "execution_count": 8,
   "id": "4405a756",
   "metadata": {},
   "outputs": [],
   "source": [
    "sql = \"UPDATE student1 SET name = 'prince' WHERE name = 'sandeep'\"\n",
    "db.execute(sql)\n",
    "database.commit()"
   ]
  },
  {
   "cell_type": "code",
   "execution_count": 6,
   "id": "7676e313",
   "metadata": {},
   "outputs": [
    {
     "name": "stdout",
     "output_type": "stream",
     "text": [
      "(1, 'Bishal', 80.0, 90.0, 98.0, 78.0, 76.0, 423.0, 84.6, 'A')\n",
      "(2, 'Shree', 80.0, 90.0, 100.0, 50.0, 60.0, 290.0, 58.0, 'c+')\n",
      "(3, 'bijay', 70.0, 80.0, 79.0, 90.0, 98.0, 417.0, 84.5, 'A')\n",
      "(6, 'ravi', 67.0, 56.0, 78.0, 78.0, 89.0, 400.0, 67.0, 'b')\n",
      "(11, 'simon', 76.0, 56.0, 87.0, 89.0, 89.0, 415.0, 67.0, 'B')\n",
      "(13, 'prince', 667.0, 78.0, 78.0, 89.0, 90.0, 1002.0, 250.5, 'A')\n",
      "(14, 'bikash', 45.0, 0.0, 0.0, 0.0, 0.0, 0.0, 0.0, '')\n",
      "(15, 'gauri', 67.0, 56.0, 57.0, 78.0, 89.0, 347.0, 86.75, 'A')\n"
     ]
    }
   ],
   "source": [
    "db.execute(\"SELECT * FROM student1\")\n",
    "result =db.fetchall()\n",
    "for x in result:\n",
    "    print(x)"
   ]
  },
  {
   "cell_type": "code",
   "execution_count": null,
   "id": "9f9f8058",
   "metadata": {},
   "outputs": [],
   "source": []
  }
 ],
 "metadata": {
  "kernelspec": {
   "display_name": "Python 3 (ipykernel)",
   "language": "python",
   "name": "python3"
  },
  "language_info": {
   "codemirror_mode": {
    "name": "ipython",
    "version": 3
   },
   "file_extension": ".py",
   "mimetype": "text/x-python",
   "name": "python",
   "nbconvert_exporter": "python",
   "pygments_lexer": "ipython3",
   "version": "3.9.12"
  }
 },
 "nbformat": 4,
 "nbformat_minor": 5
}
