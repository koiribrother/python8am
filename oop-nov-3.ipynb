{
 "cells": [
  {
   "cell_type": "code",
   "execution_count": null,
   "id": "10794cad",
   "metadata": {},
   "outputs": [],
   "source": [
    "class A:    #parent class\n",
    "    pass\n",
    "\n",
    "class B(A):    #Child class\n",
    "    pass\n",
    "\n",
    "\n",
    "obj  = B()"
   ]
  },
  {
   "cell_type": "code",
   "execution_count": null,
   "id": "121832c5",
   "metadata": {},
   "outputs": [],
   "source": [
    "# beautiful soup documentation\n",
    "# download git \n",
    "# sign-up github"
   ]
  },
  {
   "cell_type": "code",
   "execution_count": 21,
   "id": "428a1f2b",
   "metadata": {},
   "outputs": [
    {
     "name": "stdout",
     "output_type": "stream",
     "text": [
      "Enter name = ram\n",
      "Enter age = 23\n",
      "Hello I amram.I am23\n",
      "Hello I amram.I am23\n",
      "None\n"
     ]
    }
   ],
   "source": [
    "class A:\n",
    "    def __init__(self):\n",
    "        self.name = input(\"Enter name = \")\n",
    "        self.age = int(input(\"Enter age = \"))\n",
    "class B(A):\n",
    "    def infos(self):\n",
    "        print(f\"Hello I am{self.name}.I am{self.age}\")\n",
    "\n",
    "obj = B()\n",
    "obj.infos()\n",
    "print(obj.infos())"
   ]
  },
  {
   "cell_type": "code",
   "execution_count": 19,
   "id": "a6582ef5",
   "metadata": {},
   "outputs": [
    {
     "name": "stdout",
     "output_type": "stream",
     "text": [
      "Enter name = ram\n",
      "Enter age = 23\n",
      "Hello python23.year 2023ram\n",
      "(23, 'ram')\n"
     ]
    }
   ],
   "source": [
    "class A:\n",
    "    def __init__(self,age,name):\n",
    "        self.name = name   #public members\n",
    "        self.age = age   #public members\n",
    "\n",
    "    def infos(self):\n",
    "        return self.name,self.age\n",
    "    \n",
    "class B(A):\n",
    "    def info(self):\n",
    "        print(f\"Hello python{self.name}.year 2023{self.age}\")\n",
    "    \n",
    "name = input(\"Enter name = \")\n",
    "age = int(input(\"Enter age = \"))\n",
    "\n",
    "obj= B(name,age)\n",
    "obj.info()\n",
    "print(obj.infos())"
   ]
  },
  {
   "cell_type": "code",
   "execution_count": 13,
   "id": "fb72f084",
   "metadata": {},
   "outputs": [
    {
     "name": "stdout",
     "output_type": "stream",
     "text": [
      "Enter add = ktm\n",
      "Enter name = gauri\n",
      "Enter age = 23\n",
      "Hello I amgauri. I am23\n",
      "gauri\n"
     ]
    }
   ],
   "source": [
    "class A:\n",
    "    def __init__(self):\n",
    "        self.name = input(\"Enter name = \")  \n",
    "        \n",
    "    def infos(self):\n",
    "            return self.name\n",
    "    \n",
    "class B:\n",
    "    def __init__(self):\n",
    "        self.age = int(input(\"Enter age = \")) \n",
    "    \n",
    "class C(A,B):\n",
    "    def __init__(self):\n",
    "        self.add = input(\"Enter add = \")\n",
    "        A.__init__(self)\n",
    "        B.__init__(self)\n",
    "    \n",
    "    def info(self):\n",
    "        print(f\"Hello I am{self.name}. I am{self.age}\")\n",
    "        \n",
    "obj = C()\n",
    "obj.info()\n",
    "print(obj.infos())\n",
    "    \n",
    "    "
   ]
  },
  {
   "cell_type": "code",
   "execution_count": 3,
   "id": "ade15a70",
   "metadata": {},
   "outputs": [
    {
     "name": "stdout",
     "output_type": "stream",
     "text": [
      "Ram 23 ktm\n"
     ]
    }
   ],
   "source": [
    "#public Members\n",
    "class Info:\n",
    "    def __init__(self,name,age,add):\n",
    "        self.name = name\n",
    "        self.age = age\n",
    "        self.add = add \n",
    "        \n",
    "        \n",
    "obj=Info(\"Ram\",23,\"ktm\")\n",
    "\n",
    "print(obj.name,obj.age,obj.add)"
   ]
  },
  {
   "cell_type": "code",
   "execution_count": 4,
   "id": "60d2cfaf",
   "metadata": {},
   "outputs": [
    {
     "name": "stdout",
     "output_type": "stream",
     "text": [
      "Ram 23 ktm\n"
     ]
    }
   ],
   "source": [
    "#protected members\n",
    "class Info:\n",
    "    def __init__(self,name,age,add):\n",
    "        self._name = name\n",
    "        self._age = age\n",
    "        self._add = add \n",
    "        \n",
    "        \n",
    "obj = Info(\"Ram\",23,\"ktm\")\n",
    "\n",
    "print(obj._name,obj._age,obj._add)"
   ]
  },
  {
   "cell_type": "code",
   "execution_count": 6,
   "id": "8664fe5a",
   "metadata": {},
   "outputs": [
    {
     "name": "stdout",
     "output_type": "stream",
     "text": [
      "Shyam 34 bhw\n"
     ]
    }
   ],
   "source": [
    "# private members\n",
    "\n",
    "class Info:\n",
    "    def __init__(self,name,age,add):\n",
    "        self.__name = name\n",
    "        self.__age = age\n",
    "        self.__add = add\n",
    "        \n",
    "obj = Info(\"Shyam\",34,\"bhw\")\n",
    "\n",
    "print(obj._Info__name,obj._Info__age,obj._Info__add)"
   ]
  },
  {
   "cell_type": "code",
   "execution_count": null,
   "id": "ff917573",
   "metadata": {},
   "outputs": [],
   "source": []
  }
 ],
 "metadata": {
  "kernelspec": {
   "display_name": "Python 3 (ipykernel)",
   "language": "python",
   "name": "python3"
  },
  "language_info": {
   "codemirror_mode": {
    "name": "ipython",
    "version": 3
   },
   "file_extension": ".py",
   "mimetype": "text/x-python",
   "name": "python",
   "nbconvert_exporter": "python",
   "pygments_lexer": "ipython3",
   "version": "3.9.12"
  }
 },
 "nbformat": 4,
 "nbformat_minor": 5
}
