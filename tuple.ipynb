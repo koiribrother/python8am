{
 "cells": [
  {
   "cell_type": "code",
   "execution_count": null,
   "id": "9031f0ca",
   "metadata": {},
   "outputs": [],
   "source": [
    "# Tuple\n",
    "# -Indexing\n",
    "# -Ordered\n",
    "# -Duplicate value\n",
    "# -Multiple value\n",
    "# -Imutable"
   ]
  },
  {
   "cell_type": "code",
   "execution_count": 1,
   "id": "1191f1d6",
   "metadata": {},
   "outputs": [
    {
     "name": "stdout",
     "output_type": "stream",
     "text": [
      "<class 'tuple'>\n",
      "<class 'tuple'>\n"
     ]
    }
   ],
   "source": [
    "a = (1,2,3,4,5)\n",
    "b = (\"Apple\",\"Mango\",\"Pear\")\n",
    "print(type(a))\n",
    "print(type(b))\n"
   ]
  },
  {
   "cell_type": "code",
   "execution_count": 2,
   "id": "ae16f552",
   "metadata": {},
   "outputs": [
    {
     "name": "stdout",
     "output_type": "stream",
     "text": [
      "Pear\n"
     ]
    }
   ],
   "source": [
    "b = (\"Apple\",\"Mango\",\"Pear\")\n",
    "print(b[2])"
   ]
  },
  {
   "cell_type": "code",
   "execution_count": 4,
   "id": "acee0e17",
   "metadata": {},
   "outputs": [
    {
     "name": "stdout",
     "output_type": "stream",
     "text": [
      "('Apple', 'Mango', 'Pear')\n"
     ]
    }
   ],
   "source": [
    "b = (\"Apple\",\"Mango\",\"Pear\")\n",
    "print(b[0:3])"
   ]
  },
  {
   "cell_type": "code",
   "execution_count": 6,
   "id": "6d158a18",
   "metadata": {},
   "outputs": [
    {
     "data": {
      "text/plain": [
       "('Tiger', 'Deer', 'Apple', 'Mango', 'Pear')"
      ]
     },
     "execution_count": 6,
     "metadata": {},
     "output_type": "execute_result"
    }
   ],
   "source": [
    "b = (\"Apple\",\"Mango\",\"Pear\")\n",
    "a =(\"Tiger\",\"Deer\")\n",
    "c = a+b\n",
    "c"
   ]
  },
  {
   "cell_type": "code",
   "execution_count": 11,
   "id": "228c5007",
   "metadata": {},
   "outputs": [
    {
     "data": {
      "text/plain": [
       "('Apple', 'Mango', 'Pear', 'Apple', 'Mango', 'Pear')"
      ]
     },
     "execution_count": 11,
     "metadata": {},
     "output_type": "execute_result"
    }
   ],
   "source": [
    "b = (\"Apple\",\"Mango\",\"Pear\")\n",
    "b*2"
   ]
  },
  {
   "cell_type": "code",
   "execution_count": null,
   "id": "7b4876b8",
   "metadata": {},
   "outputs": [],
   "source": [
    "# No append() insert() extend()\n",
    "# No del pop() remove()\n",
    "# No update\n",
    "# No sort"
   ]
  },
  {
   "cell_type": "code",
   "execution_count": 15,
   "id": "ed38d316",
   "metadata": {},
   "outputs": [
    {
     "data": {
      "text/plain": [
       "tuple"
      ]
     },
     "execution_count": 15,
     "metadata": {},
     "output_type": "execute_result"
    }
   ],
   "source": [
    "a = (\"Apple\",)\n",
    "type(a)"
   ]
  },
  {
   "cell_type": "code",
   "execution_count": 16,
   "id": "91444e5b",
   "metadata": {},
   "outputs": [
    {
     "data": {
      "text/plain": [
       "('Apple',)"
      ]
     },
     "execution_count": 16,
     "metadata": {},
     "output_type": "execute_result"
    }
   ],
   "source": [
    "a =tuple()\n",
    "b = a+(\"Apple\",)\n",
    "b"
   ]
  },
  {
   "cell_type": "code",
   "execution_count": 17,
   "id": "d51580ff",
   "metadata": {},
   "outputs": [
    {
     "data": {
      "text/plain": [
       "('Appe', 'Ball')"
      ]
     },
     "execution_count": 17,
     "metadata": {},
     "output_type": "execute_result"
    }
   ],
   "source": [
    "a = tuple()\n",
    "b = \"Appe\"\n",
    "c = \"Ball\"\n",
    "a = a+(b,)\n",
    "a = a+(c,)\n",
    "a"
   ]
  },
  {
   "cell_type": "code",
   "execution_count": 21,
   "id": "12570b08",
   "metadata": {},
   "outputs": [
    {
     "name": "stdout",
     "output_type": "stream",
     "text": [
      "Enter n = 4\n",
      "Enter x = 12\n",
      "Enter x = 12\n",
      "Enter x = 13\n",
      "Enter x = 11114\n",
      "(12, 12, 13, 11114)\n"
     ]
    }
   ],
   "source": [
    "t = tuple()\n",
    "n = int(input(\"Enter n = \"))\n",
    "for i in range(n):\n",
    "    x = int(input(\"Enter x = \"))\n",
    "    t = t+(x,)\n",
    "print(t)"
   ]
  },
  {
   "cell_type": "markdown",
   "id": "7856c937",
   "metadata": {},
   "source": [
    "<!--  We can\n",
    "max min sum\n",
    "read search -->"
   ]
  },
  {
   "cell_type": "code",
   "execution_count": 22,
   "id": "8b6bb401",
   "metadata": {
    "scrolled": true
   },
   "outputs": [
    {
     "name": "stdout",
     "output_type": "stream",
     "text": [
      "Ram\n",
      "Shyam\n",
      "Hari\n",
      "Ravi\n"
     ]
    }
   ],
   "source": [
    "a = (\"Ram\",\"Shyam\",\"Hari\",\"Ravi\")\n",
    "for i in a:\n",
    "    print(i)"
   ]
  },
  {
   "cell_type": "code",
   "execution_count": null,
   "id": "0878036f",
   "metadata": {},
   "outputs": [],
   "source": []
  },
  {
   "cell_type": "code",
   "execution_count": 29,
   "id": "37d522d2",
   "metadata": {},
   "outputs": [
    {
     "name": "stdout",
     "output_type": "stream",
     "text": [
      "yes\n"
     ]
    }
   ],
   "source": [
    "a = (\"Ram\",\"Shyam\",\"Hari\",\"Ravi\")\n",
    "if \"Ram\" in a:\n",
    "    print(\"yes\")"
   ]
  },
  {
   "cell_type": "code",
   "execution_count": 26,
   "id": "0b6f759f",
   "metadata": {},
   "outputs": [
    {
     "data": {
      "text/plain": [
       "['Hari', 'Ram', 'Ravi', 'Shyam']"
      ]
     },
     "execution_count": 26,
     "metadata": {},
     "output_type": "execute_result"
    }
   ],
   "source": [
    "a = (\"Ram\",\"Shyam\",\"Hari\",\"Ravi\")\n",
    "sorted(a)"
   ]
  },
  {
   "cell_type": "code",
   "execution_count": null,
   "id": "2f52b2f4",
   "metadata": {},
   "outputs": [],
   "source": [
    "# tuple inside tuple"
   ]
  },
  {
   "cell_type": "code",
   "execution_count": 32,
   "id": "8e0faecd",
   "metadata": {},
   "outputs": [
    {
     "name": "stdout",
     "output_type": "stream",
     "text": [
      "Enter n = 2\n",
      "Enter x = 1\n",
      "Enter y = 1\n",
      "Enter z = 1\n",
      "((1, 1, 1),)\n",
      "Enter x = 2\n",
      "Enter y = 2\n",
      "Enter z = 2\n",
      "((1, 1, 1), (2, 2, 2))\n"
     ]
    }
   ],
   "source": [
    "# t = ((1,2,3),\n",
    "#     (4,5,6),\n",
    "#     7,8,9))\n",
    "t = tuple()\n",
    "n = int(input(\"Enter n = \"))\n",
    "for i in range(n):\n",
    "    x = int(input(\"Enter x = \"))\n",
    "    y = int(input(\"Enter y = \"))\n",
    "    z = int(input(\"Enter z = \"))\n",
    "    t = t+((x,y,z),)\n",
    "    print(t)"
   ]
  },
  {
   "cell_type": "markdown",
   "id": "dc780748",
   "metadata": {},
   "source": []
  },
  {
   "cell_type": "code",
   "execution_count": 34,
   "id": "85cd060b",
   "metadata": {},
   "outputs": [
    {
     "data": {
      "text/plain": [
       "[[1, 2, 3], [4, 5, 6]]"
      ]
     },
     "execution_count": 34,
     "metadata": {},
     "output_type": "execute_result"
    }
   ],
   "source": [
    "l =[]\n",
    "t = ((1,2,3),(4,5,6))\n",
    "for i in t:\n",
    "    l.append(list(i))\n",
    "    \n",
    "l"
   ]
  },
  {
   "cell_type": "code",
   "execution_count": 36,
   "id": "26ae9ac2",
   "metadata": {},
   "outputs": [
    {
     "name": "stdout",
     "output_type": "stream",
     "text": [
      "((1, 2, 3), (4, 5, 6))\n"
     ]
    }
   ],
   "source": [
    "t = tuple()\n",
    "l = [[1, 2, 3], [4, 5, 6]]\n",
    "for i in l:\n",
    "    t = t+(tuple(i),)\n",
    "print(t)"
   ]
  },
  {
   "cell_type": "code",
   "execution_count": 37,
   "id": "36f7b64a",
   "metadata": {},
   "outputs": [],
   "source": [
    "t = ([1, 2, 3], [4, 5, 6])\n",
    "l = [(1, 2, 3),(4, 5, 6)]"
   ]
  },
  {
   "cell_type": "code",
   "execution_count": 38,
   "id": "d32215ed",
   "metadata": {},
   "outputs": [
    {
     "data": {
      "text/plain": [
       "[(1, 2, 3), (4, 5, 6)]"
      ]
     },
     "execution_count": 38,
     "metadata": {},
     "output_type": "execute_result"
    }
   ],
   "source": [
    "t =  [(1, 2, 3),(4, 5, 6)]\n",
    "t = list(t)\n",
    "t"
   ]
  },
  {
   "cell_type": "code",
   "execution_count": 39,
   "id": "e3f96098",
   "metadata": {},
   "outputs": [
    {
     "data": {
      "text/plain": [
       "[(1, 2, 3), (4, 5, 6), (1, 2, 3)]"
      ]
     },
     "execution_count": 39,
     "metadata": {},
     "output_type": "execute_result"
    }
   ],
   "source": [
    "t.append((1,2,3))\n",
    "t"
   ]
  },
  {
   "cell_type": "code",
   "execution_count": 40,
   "id": "5b0f0d13",
   "metadata": {},
   "outputs": [
    {
     "data": {
      "text/plain": [
       "[(4, 5, 6), (1, 2, 3)]"
      ]
     },
     "execution_count": 40,
     "metadata": {},
     "output_type": "execute_result"
    }
   ],
   "source": [
    "del t[0]\n",
    "t"
   ]
  },
  {
   "cell_type": "code",
   "execution_count": null,
   "id": "fca3a3a8",
   "metadata": {},
   "outputs": [],
   "source": []
  }
 ],
 "metadata": {
  "kernelspec": {
   "display_name": "Python 3 (ipykernel)",
   "language": "python",
   "name": "python3"
  },
  "language_info": {
   "codemirror_mode": {
    "name": "ipython",
    "version": 3
   },
   "file_extension": ".py",
   "mimetype": "text/x-python",
   "name": "python",
   "nbconvert_exporter": "python",
   "pygments_lexer": "ipython3",
   "version": "3.9.12"
  }
 },
 "nbformat": 4,
 "nbformat_minor": 5
}
